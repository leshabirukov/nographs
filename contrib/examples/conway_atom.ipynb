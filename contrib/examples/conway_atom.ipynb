{
 "cells": [
  {
   "cell_type": "code",
   "execution_count": null,
   "id": "c7cdf1c2-18f6-4aa7-8e1d-7d79036b619f",
   "metadata": {},
   "outputs": [],
   "source": [
    "from functools import wraps\n",
    "from decorator import decorator\n",
    "from graphviz import Digraph\n",
    "import nographs as nog"
   ]
  },
  {
   "cell_type": "code",
   "execution_count": null,
   "id": "5fc8b7a5-9e6a-4a1a-8ccb-2462c858d401",
   "metadata": {},
   "outputs": [],
   "source": [
    "def adapter_graphviz( to_deco ):\n",
    "    \"\"\"translation to GraphViz visitor\"\"\"\n",
    "    dot = Digraph()\n",
    "    def wrapper_bg( vert, _traversal_context ):\n",
    "        \"\"\"visitor wrapper\"\"\"\n",
    "        dot.node( str( vert ), str( vert ) )\n",
    "        for result in to_deco( vert, _traversal_context ):\n",
    "            dot.edge( str( vert ), str( result ), )\n",
    "            yield result\n",
    "    wrapper_bg.dot = dot\n",
    "    return wrapper_bg"
   ]
  },
  {
   "cell_type": "code",
   "execution_count": null,
   "id": "febca804-6554-462e-a8dd-0a8a349f1c31",
   "metadata": {},
   "outputs": [],
   "source": [
    "_K_ = 5\n",
    "\n",
    "@adapter_graphviz\n",
    "def koll( x, _):\n",
    "    return [x//_K_ if x%_K_ ==0 else (x*(_K_+1)+(_K_//2))//_K_]\n",
    "    # return [x//3 if x%3 ==0 else (x*4+1)//3]\n",
    "\n",
    "trav_forward = nog.TraversalBreadthFirst(next_vertices=koll)\n",
    "trav_forward.start_from( start_vertices=list( range(1,111) ), build_paths=True )\n",
    "for _, _ in zip(trav_forward, range(1000)):\n",
    "    pass"
   ]
  },
  {
   "cell_type": "code",
   "execution_count": null,
   "id": "492af29a-4b3f-41cd-84cf-12f3857b4cf0",
   "metadata": {},
   "outputs": [],
   "source": []
  },
  {
   "cell_type": "code",
   "execution_count": null,
   "id": "80af4b02-f8fc-4be6-b275-b6aabf52ee53",
   "metadata": {},
   "outputs": [],
   "source": [
    "koll.dot              # pylint: disable=pointless-statement"
   ]
  },
  {
   "cell_type": "code",
   "execution_count": null,
   "id": "61138a50-a2b6-4627-bb98-85488145f7ec",
   "metadata": {},
   "outputs": [],
   "source": []
  }
 ],
 "metadata": {
  "kernelspec": {
   "display_name": "Python 3 (ipykernel)",
   "language": "python",
   "name": "python3"
  },
  "language_info": {
   "codemirror_mode": {
    "name": "ipython",
    "version": 3
   },
   "file_extension": ".py",
   "mimetype": "text/x-python",
   "name": "python",
   "nbconvert_exporter": "python",
   "pygments_lexer": "ipython3",
   "version": "3.9.6"
  }
 },
 "nbformat": 4,
 "nbformat_minor": 5
}
