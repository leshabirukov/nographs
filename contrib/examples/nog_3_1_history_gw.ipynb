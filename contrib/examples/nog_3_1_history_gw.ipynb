{
 "cells": [
  {
   "cell_type": "markdown",
   "id": "58c75739-93bf-4b30-b14e-19897653f6e9",
   "metadata": {},
   "source": [
    "### Graph transformation history"
   ]
  },
  {
   "cell_type": "code",
   "execution_count": null,
   "id": "2d84645b-8234-4105-8c8a-4e5748a59809",
   "metadata": {},
   "outputs": [],
   "source": [
    "import nographs as nog\n",
    "from graphviz import Digraph\n",
    "import functools\n",
    "import inspect"
   ]
  },
  {
   "cell_type": "code",
   "execution_count": null,
   "id": "b9de95d1-0e09-43fc-b905-1508de61bdc7",
   "metadata": {},
   "outputs": [],
   "source": [
    "dict_1= {0:{1,2}, 1:{2,0}, 2:{0,1}, }\n",
    "dict_2= {0:{1,}, 1:{2,3}, 2:{4,}, 3:{}, 4:{} }\n",
    "#dict_2= {0:{1,}, 1:{}, 2:{4,}, 3:{}, 4:{} }\n",
    "\n",
    "def forward(x, _):\n",
    "    return dict_1[x]"
   ]
  },
  {
   "cell_type": "code",
   "execution_count": null,
   "id": "c2b3bd0d-d1be-4195-a8b1-25479d20bb6f",
   "metadata": {},
   "outputs": [],
   "source": [
    "def to_id(x):\n",
    "    return f\"{hash(str( x ))}\"\n",
    "# https://www.graphviz.org/doc/info/attrs.html\n",
    "node_style =dict( style='filled', shape='box', \n",
    "                                align='left',\n",
    "                                fontsize='12',\n",
    "                                ranksep='0.01',\n",
    "                                height='0.02',width='0.04',)\n",
    "gr_style = dict( linelength=\"16\",rankdir='LR',size='16,8')#landscape=\"True\",splines='curved' ,layout=\"neato\"\n",
    "\n",
    "def adapter_graphviz( wrapped ):\n",
    "    dot = Digraph( node_attr = node_style, graph_attr = gr_style, )\n",
    "    @functools.wraps( wrapped )\n",
    "    def wrapper_bg( x, t ):\n",
    "        node = dot.node( str(hash(x)), str(x) )\n",
    "        for result in wrapped(x, t):\n",
    "            dot.edge( str(hash( x )), str(hash( result )), )# label=f\"{str(x)}-{str(result)}\",\n",
    "            yield result\n",
    "    wrapper_bg.dot = dot\n",
    "    return wrapper_bg\n",
    "    "
   ]
  },
  {
   "cell_type": "code",
   "execution_count": null,
   "id": "cc8304ca-e755-493f-8f48-97f0a26c7451",
   "metadata": {},
   "outputs": [],
   "source": [
    "class EdgeSplitter:\n",
    "    def __init__(self, wrapped):\n",
    "        self.in_history = True\n",
    "        functools.update_wrapper(self, wrapped )\n",
    "        self.newbies = set()\n",
    "    def __call__(self, x, t):\n",
    "\n",
    "        if x in self.newbies:\n",
    "            yield x[1]\n",
    "        else:\n",
    "            for result in self.__wrapped__(x, t):\n",
    "                # creating new vertex at the middle of edge, new id is tuple of edge's ends\n",
    "                self.newbies.add((x, result))\n",
    "                yield (x, result)\n",
    "\n"
   ]
  },
  {
   "cell_type": "code",
   "execution_count": null,
   "id": "61c10a82-4166-4f94-ad5a-6e326d2a4450",
   "metadata": {},
   "outputs": [],
   "source": [
    "import ast\n",
    "class NameMod:\n",
    "    def __init__(self, wrapped):\n",
    "        self.in_history = False\n",
    "        functools.update_wrapper(self, wrapped )\n",
    "    def __call__(self, x, t):\n",
    "        #print(x, ast.literal_eval(x),type(ast.literal_eval(x)) )\n",
    "        for result in self.__wrapped__( ast.literal_eval(x[1:-1]), t):\n",
    "            #print(\"---\",result,type(result) )\n",
    "            yield f\"-{result}-\""
   ]
  },
  {
   "cell_type": "code",
   "execution_count": null,
   "id": "0c51cd0b-a942-481b-968f-5fd5aa587907",
   "metadata": {},
   "outputs": [],
   "source": [
    "@adapter_graphviz\n",
    "@NameMod\n",
    "@EdgeSplitter\n",
    "def stringy(x, _):\n",
    "    #print(\"===\",x,type(x) )\n",
    "    return dict_1[x]\n",
    "    \n",
    "trav_forward = nog.TraversalBreadthFirst( stringy )\n",
    "trav_forward.start_from( \"-0-\", build_paths=True )\n",
    "str( list(trav_forward) )\n",
    "0"
   ]
  },
  {
   "cell_type": "code",
   "execution_count": null,
   "id": "b211ff8f-b44e-4837-a32e-105d06fa6810",
   "metadata": {},
   "outputs": [],
   "source": [
    "#print(double_splitted.dot.source)\n",
    "stringy.dot.graph_attr['layout']='neato'\n",
    "stringy.dot"
   ]
  },
  {
   "cell_type": "code",
   "execution_count": null,
   "id": "72189107-31fc-4983-989a-3ba7b06f5581",
   "metadata": {},
   "outputs": [],
   "source": [
    "def wrg( f, _ ):\n",
    "    print(f, hasattr(f,\"in_history\"))\n",
    "    if hasattr( f, \"__wrapped__\" ):\n",
    "        return (f.__wrapped__,)\n",
    "    return ()\n",
    "\n",
    "trav_forward = nog.TraversalBreadthFirst( wrg )\n",
    "trav_forward.start_from( stringy, build_paths=True )\n",
    "str( list(trav_forward) )"
   ]
  },
  {
   "cell_type": "code",
   "execution_count": null,
   "id": "dde0ead7-a690-4b63-81ac-c8c50a0e0fce",
   "metadata": {},
   "outputs": [],
   "source": [
    "x='1'\n",
    "print(x, ast.literal_eval(x),type(ast.literal_eval(x)) )"
   ]
  },
  {
   "cell_type": "code",
   "execution_count": null,
   "id": "8b8ccc6c-f03e-4cf2-b8c9-a1b2ae0a7a69",
   "metadata": {},
   "outputs": [],
   "source": [
    "class GraphMorph:\n",
    "    def __init__(self, wrapped):\n",
    "        functools.update_wrapper(self, wrapped )\n",
    "    def __call__(self, x, t):\n",
    "        yield from self.__wrapped__( x, t )\n",
    "\n",
    "class GraphMorphDecorateNodes(GraphMorph):\n",
    "    def __init__(self,*argc,**argv):\n",
    "        super().__init__(*argc,**argv)\n",
    "    @staticmethod\n",
    "    def dress( x,):\n",
    "        return x\n",
    "    @staticmethod\n",
    "    def undress( x,):\n",
    "        return x\n",
    "    def __call__(self, x, t):\n",
    "        yield from map( self.dress, self.__wrapped__( self.undress(x), t ) )\n",
    "\n",
    "class DecoName(GraphMorphDecorateNodes):\n",
    "    def __init__(self,*argc,**argv):\n",
    "        super().__init__(*argc,**argv)\n",
    "    @staticmethod\n",
    "    def dress( x,):\n",
    "        return f\"-{x}-\"\n",
    "    @staticmethod\n",
    "    def undress( x,):\n",
    "        return ast.literal_eval(x[1:-1])"
   ]
  },
  {
   "cell_type": "code",
   "execution_count": null,
   "id": "dddc6115-b580-431f-985d-be20a639f517",
   "metadata": {},
   "outputs": [],
   "source": [
    "class FreeForget(GraphMorph):  # All possible paths\n",
    "    def __init__(self,*argc,**argv):        super().__init__(*argc,**argv)\n",
    "        \n",
    "    def __call__(self, x, t):\n",
    "        yield x # identity morphism\n",
    "        for ch1 in self.__wrapped__( x, t ):\n",
    "            yield from self.__call__(ch1, t) # recursion"
   ]
  },
  {
   "cell_type": "code",
   "execution_count": null,
   "id": "840a588b-0cdd-4656-ba73-255c7bcd5c6f",
   "metadata": {},
   "outputs": [],
   "source": [
    "class Labeler(GraphMorph):  # All possible paths\n",
    "    def node_label( x ):\n",
    "        return str(x)\n",
    "    def node_id( x ):\n",
    "        return str(hash(x))\n",
    "    def __init__(self,*argc,**argv):\n",
    "        super().__init__(*argc,**argv)"
   ]
  },
  {
   "cell_type": "code",
   "execution_count": null,
   "id": "732333a5-ada3-4f19-837a-72d4bbdfdeee",
   "metadata": {},
   "outputs": [],
   "source": [
    "def new_cat():\n",
    "    @adapter_graphviz\n",
    "    @DecoName\n",
    "    @FreeForget\n",
    "    def cat(x, _):\n",
    "        return dict_2[x]\n",
    "    return cat\n",
    "    \n",
    "cat_1 = new_cat()\n",
    "trav_forward = nog.TraversalBreadthFirst( cat_1 )\n",
    "trav_forward.start_from( '-0-', )\n",
    "str( list(trav_forward) )\n",
    "cat_1.dot"
   ]
  },
  {
   "cell_type": "code",
   "execution_count": null,
   "id": "8b9c94d6-cb72-457d-b577-af5d52ec828a",
   "metadata": {},
   "outputs": [],
   "source": [
    "#print(stringy.dot.source)"
   ]
  },
  {
   "cell_type": "code",
   "execution_count": null,
   "id": "fb1ec157-c0a8-4c70-ae42-473eaddde72e",
   "metadata": {},
   "outputs": [],
   "source": [
    "#cat.dot = Digraph( node_attr = node_style, graph_attr = gr_style, )\n",
    "cat_2 = new_cat()\n",
    "trav_forward = nog.TraversalBreadthFirst( cat_2 )\n",
    "trav_forward.start_from( '-0-', )\n",
    "str( list(trav_forward) )\n",
    "cat_2.dot"
   ]
  },
  {
   "cell_type": "code",
   "execution_count": null,
   "id": "15772a40-986a-4750-873c-c3c5f985fce7",
   "metadata": {},
   "outputs": [],
   "source": [
    "class IDFunctor(GraphMorphDecorateNodes):\n",
    "    def __init__(self,*argc,**argv):\n",
    "        super().__init__(*argc,**argv)\n",
    "    @staticmethod\n",
    "    def dress( x,):\n",
    "        return f\"-{x}-\"\n",
    "    @staticmethod\n",
    "    def undress( x,):\n",
    "        return ast.literal_eval(x[1:-1])\n",
    "    def __call__(self, x, t):\n",
    "        if type(x) is int:\n",
    "            yield from                  self.__wrapped__(              x,  t )\n",
    "            yield self.dress(x)\n",
    "        else:\n",
    "            yield from map( self.dress, self.__wrapped__( self.undress(x), t ) )\n",
    "            #yield from                  self.__wrapped__( self.undress(x), t )"
   ]
  },
  {
   "cell_type": "code",
   "execution_count": null,
   "id": "0f7b0355-dbaf-4dc8-949f-f0a88c49ad2a",
   "metadata": {},
   "outputs": [],
   "source": [
    "class graphviz_bipart( GraphMorph ):\n",
    "    def __init__(self, wrapped ):\n",
    "        super().__init__( wrapped )\n",
    "        self.dot = {}\n",
    "        self.dot[False] = Digraph( name=\"cluster_0\" )\n",
    "        self.dot[True]  = Digraph( name=\"cluster_1\" )#,node_attr={'shape': 'box'}\n",
    "    def predicate(self,x):\n",
    "        return type(x) is int\n",
    "    def __call__(self, x, t):\n",
    "        node = self.dot[self.predicate(x)].node( to_id(x), str(x) )\n",
    "        for result in self.__wrapped__(x, t):\n",
    "            colour = 'black' if self.predicate(x) == self.predicate(result) else 'red'\n",
    "            # label=f\"{str(x)}-{str(result)}\",\n",
    "            self.dot[self.predicate(x)].edge( to_id(x), to_id(result), color=colour)\n",
    "            yield result\n",
    "    def get_dot(self):\n",
    "        both = Digraph( name='master')\n",
    "        both.subgraph(self.dot[False])\n",
    "        both.subgraph(self.dot[True])\n",
    "        return both       "
   ]
  },
  {
   "cell_type": "code",
   "execution_count": null,
   "id": "dcc75d76-57c5-462c-bb22-40ffc81624d7",
   "metadata": {},
   "outputs": [],
   "source": [
    "def cat_dog():\n",
    "    @graphviz_bipart\n",
    "    @IDFunctor\n",
    "    @FreeForget\n",
    "    def cat(x, _):\n",
    "        return dict_2[x]\n",
    "    return cat\n",
    "\n",
    "cat_3 = cat_dog()\n",
    "trav_forward = nog.TraversalBreadthFirst( cat_3 )\n",
    "trav_forward.start_from( 0, )\n",
    "str( list(trav_forward) )\n",
    "the_dot = cat_3.get_dot()\n",
    "the_dot"
   ]
  },
  {
   "cell_type": "code",
   "execution_count": null,
   "id": "c24b7baf-b825-45bb-89fa-efcae3328392",
   "metadata": {},
   "outputs": [],
   "source": [
    "cat_2.__dict__"
   ]
  },
  {
   "cell_type": "code",
   "execution_count": null,
   "id": "0c1c6ea1-0930-4de0-b1de-d56e07ddbb7e",
   "metadata": {},
   "outputs": [],
   "source": [
    "cat_2.dot"
   ]
  },
  {
   "cell_type": "code",
   "execution_count": null,
   "id": "c2067cb7-4ba9-489a-a1db-00fac769a024",
   "metadata": {},
   "outputs": [],
   "source": [
    "cat_3.get_dot()"
   ]
  },
  {
   "cell_type": "code",
   "execution_count": null,
   "id": "778245f6-1d44-4b26-85e7-dc91c365931e",
   "metadata": {},
   "outputs": [],
   "source": []
  }
 ],
 "metadata": {
  "kernelspec": {
   "display_name": "Python 3 (ipykernel)",
   "language": "python",
   "name": "python3"
  },
  "language_info": {
   "codemirror_mode": {
    "name": "ipython",
    "version": 3
   },
   "file_extension": ".py",
   "mimetype": "text/x-python",
   "name": "python",
   "nbconvert_exporter": "python",
   "pygments_lexer": "ipython3",
   "version": "3.9.6"
  }
 },
 "nbformat": 4,
 "nbformat_minor": 5
}
