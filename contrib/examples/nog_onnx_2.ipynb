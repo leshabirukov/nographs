{
 "cells": [
  {
   "cell_type": "code",
   "execution_count": null,
   "id": "b1609a41-4a36-47af-9a4a-7d0050e32beb",
   "metadata": {},
   "outputs": [],
   "source": [
    "\"\"\"traverse onnx model graph for visualization, requires `onnx` package, simplest version\"\"\""
   ]
  },
  {
   "cell_type": "code",
   "execution_count": null,
   "id": "6763ae05",
   "metadata": {},
   "outputs": [],
   "source": [
    "from functools import wraps, cache\n",
    "from itertools import product\n",
    "from decorator import decorator\n",
    "from typing import Generator\n",
    "from __future__ import annotations\n",
    "import onnx\n",
    "import nographs as nog\n",
    "from graphviz import Digraph"
   ]
  },
  {
   "cell_type": "code",
   "execution_count": null,
   "id": "ac59e9bc",
   "metadata": {},
   "outputs": [],
   "source": [
    "onnx_model = onnx.load(\"inception_v4_no_w.onnx\")"
   ]
  },
  {
   "cell_type": "code",
   "execution_count": null,
   "id": "07827498-eb63-44d7-a926-7fd217504536",
   "metadata": {},
   "outputs": [],
   "source": [
    "node_style ={\"style\": 'filled',            \"shape\": 'box',\n",
    "             \"align\": 'left',              \"fontsize\": '12',\n",
    "             \"ranksep\":'0.01',             \"height\":'0.02',   \"width\":'0.04',}\n",
    "gr_style = {\"linelength\": '16', \"rankdir\": 'TB'}\n",
    "\n",
    "def adapter_graphviz( wrapped_frw ):\n",
    "    \"\"\"translation to GraphViz visitor\"\"\"\n",
    "    graph_dot = Digraph( node_attr = node_style, graph_attr = gr_style, )\n",
    "    @wraps( wrapped_frw )\n",
    "    def wrapper_bg_frw( vert, _traversal_context ):\n",
    "        \"\"\"visitor wrapper for edge following\"\"\"\n",
    "        graph_dot.node( vert, vert )\n",
    "        for result, temps in wrapped_frw( vert, _traversal_context ):\n",
    "            graph_dot.edge( vert, result[0], result[1], )\n",
    "            yield result\n",
    "    return wrapper_bg_frw, graph_dot"
   ]
  },
  {
   "cell_type": "code",
   "execution_count": null,
   "id": "49b33172-d5e2-4bd3-987e-ffa2db8a5da8",
   "metadata": {},
   "outputs": [],
   "source": [
    "@cache\n",
    "def name2node( name:str ):\n",
    "    for node in onnx_model.graph.node:          # pylint: disable=no-member\n",
    "        if name == node.name:\n",
    "            return node\n",
    "\n",
    "def locate_children( incoming_name ):\n",
    "    \"find target in onnx grapn by edge name \"\n",
    "    for child in onnx_model.graph.node:          # pylint: disable=no-member\n",
    "        if incoming_name in set(child.input):\n",
    "            yield (child.name, incoming_name)\n",
    "    for output in onnx_model.graph.output:\n",
    "        if output.name == incoming_name:\n",
    "            yield ('_GRAPH_OUTPUTS', incoming_name )\n",
    "\n",
    "def onnx_walk( nname, _ ):\n",
    "    \"returns successors of given vertex\"\n",
    "    if nname == '_GRAPH_INPUTS':\n",
    "        for graph_in in onnx_model.graph.input:  # pylint: disable=no-member\n",
    "            yield from locate_children( graph_in.name )\n",
    "    else:\n",
    "        for isnt_it_me in onnx_model.graph.node: # pylint: disable=no-member\n",
    "            if nname == isnt_it_me.name:\n",
    "                for node_output in isnt_it_me.output:\n",
    "                    yield from locate_children( node_output )\n",
    "                break"
   ]
  },
  {
   "cell_type": "code",
   "execution_count": null,
   "id": "ba1ce58c-c73e-44b1-9a34-908ca6067d77",
   "metadata": {},
   "outputs": [],
   "source": [
    "@decorator\n",
    "def glue_conv_relu( wrapped_frw, vert, _traversal_context ):\n",
    "    \"\"\"combining Convolution nodes with ReLU ones\"\"\"\n",
    "    for result in wrapped_frw( vert, _traversal_context ):\n",
    "        temps = 0\n",
    "        yield result, temps\n",
    "\n",
    "# @decorator\n",
    "# def clear_temps( wrapped_frw, vert, _traversal_context ):\n",
    "#     \"\"\"combining Convolution nodes with ReLU ones\"\"\"\n",
    "#     for result in wrapped_frw( vert, _traversal_context ):\n",
    "#         yield result"
   ]
  },
  {
   "cell_type": "code",
   "execution_count": null,
   "id": "9e914c20-1673-49a7-b1c8-512e3c2064c7",
   "metadata": {},
   "outputs": [],
   "source": [
    "#(f_1, dot) = adapter_graphviz( glue_conv_relu(onnx_walk) )\n",
    "(f_1, dot) = adapter_graphviz( (onnx_walk) )\n",
    "#f_1 = clear_temps(f_1)"
   ]
  },
  {
   "cell_type": "code",
   "execution_count": null,
   "id": "d04226cf-d607-4e05-9813-eee32eb6ab85",
   "metadata": {},
   "outputs": [],
   "source": [
    "# trav_b = nog.TraversalBreadthFirst( next_labeled_edges= f_1 )\n",
    "# trav_b.start_from( '_GRAPH_INPUTS' )\n",
    "# for _ in trav_b:\n",
    "#     pass"
   ]
  },
  {
   "cell_type": "code",
   "execution_count": null,
   "id": "1784d1be-3dbe-4c04-8a50-807e692bf1db",
   "metadata": {},
   "outputs": [],
   "source": [
    "#onnx_model.graph.node[0].__hash__\n",
    "dot              # pylint: disable=pointless-statement"
   ]
  },
  {
   "cell_type": "code",
   "execution_count": null,
   "id": "f89c66ad-7ad5-4678-820f-f020597f4eed",
   "metadata": {},
   "outputs": [],
   "source": [
    "class SubgraphTemplate():\n",
    "    \"\"\"Whats what we looking for\"\"\"\n",
    "    def __init__(self, report_match):\n",
    "        self.report_match = report_match\n",
    "    def __call__(self, vert):\n",
    "        if getattr( name2node(vert), 'op_type', '' ) == 'Relu':\n",
    "            yield self.report_match(vert)\n",
    "\n",
    "class LazyGraph():\n",
    "    \"\"\"Whats where we looking\"\"\"\n",
    "    def __init__(self, start_vertices, next_edges):\n",
    "        self.start_vertices = start_vertices\n",
    "        self.next_edges     = next_edges\n",
    "    def find_subgraphs(\n",
    "        self,\n",
    "        sub_template: SubgraphTemplate, \n",
    "    ) -> Generator[LazyGraph, None, None]:\n",
    "        \"\"\"All business take place here\"\"\"\n",
    "        trav_b = nog.TraversalBreadthFirst( next_labeled_edges= self.next_edges )\n",
    "        trav_b.start_from( start_vertices= self.start_vertices )\n",
    "        for vert in trav_b:\n",
    "            yield from self.find_rooted( sub_template, vert )\n",
    "    def find_rooted( self, sub_template, vert ):\n",
    "        yield list(sub_template(vert))"
   ]
  },
  {
   "cell_type": "code",
   "execution_count": null,
   "id": "68217302-0e4c-4848-8b5b-fe09d07ff29d",
   "metadata": {},
   "outputs": [],
   "source": [
    "lg = LazyGraph( ('_GRAPH_INPUTS',), f_1 )\n",
    "\n",
    "subs = lg.find_subgraphs( SubgraphTemplate( lambda x:x ) )"
   ]
  },
  {
   "cell_type": "code",
   "execution_count": null,
   "id": "831b6f58-1830-41a4-8ab7-7f4e03a7213a",
   "metadata": {},
   "outputs": [],
   "source": [
    "#list(subs)\n",
    "dot              # pylint: disable=pointless-statement"
   ]
  },
  {
   "cell_type": "code",
   "execution_count": null,
   "id": "fb991bfb-326d-44e4-a155-4b1a9978ace2",
   "metadata": {},
   "outputs": [],
   "source": [
    "#(SubgraphTemplate( lambda x:x )(onnx_model.graph.node[2]))"
   ]
  },
  {
   "cell_type": "code",
   "execution_count": null,
   "id": "b6c285c6-a533-4ccd-82ce-58994bceeb9f",
   "metadata": {},
   "outputs": [],
   "source": []
  }
 ],
 "metadata": {
  "kernelspec": {
   "display_name": "Python 3 (ipykernel)",
   "language": "python",
   "name": "python3"
  },
  "language_info": {
   "codemirror_mode": {
    "name": "ipython",
    "version": 3
   },
   "file_extension": ".py",
   "mimetype": "text/x-python",
   "name": "python",
   "nbconvert_exporter": "python",
   "pygments_lexer": "ipython3",
   "version": "3.9.6"
  }
 },
 "nbformat": 4,
 "nbformat_minor": 5
}
