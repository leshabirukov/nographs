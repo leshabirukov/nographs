{
 "cells": [
  {
   "cell_type": "code",
   "execution_count": null,
   "id": "13e04928-dd9e-4c2b-9ab0-d740ce6d2ee1",
   "metadata": {},
   "outputs": [],
   "source": [
    "\"\"\"using nographs + graphviz for program environment inspection\"\"\"\n",
    "from decorator import decorator\n",
    "from functools import wraps, update_wrapper\n",
    "from ctypes    import cast, py_object\n",
    "from graphviz  import Digraph\n",
    "import nographs as nog\n",
    "# http://magjac.com/graphviz-visual-editor/"
   ]
  },
  {
   "cell_type": "code",
   "execution_count": null,
   "id": "3acbbbff-db20-4c0d-9a60-a0fd84958c78",
   "metadata": {},
   "outputs": [],
   "source": [
    "node_style =dict( style='filled', shape='box', \n",
    "                                align='left',\n",
    "                                fontsize='12',\n",
    "                                ranksep='0.01',\n",
    "                                height='0.02',width='0.04',)\n",
    "gr_style = dict( linelength=\"16\",rankdir='LR',size='32,16',\n",
    "                # concentrate='true'\n",
    "               )#landscape=\"True\",splines='curved' ,layout=\"neato\"\n",
    "\n",
    "def adapter_graphviz( wrapped ):\n",
    "    \"\"\"translation to GraphViz visitor\"\"\"\n",
    "    dot = Digraph( node_attr = node_style, graph_attr = gr_style, )\n",
    "    @wraps( wrapped )\n",
    "    def wrapper_bg( vert, _trav ):\n",
    "        dot.node( str(vert), str(vert) )\n",
    "        for result in wrapped(vert, _trav):\n",
    "            dot.edge( str(vert), str(result), )# label=f\"{str(x)}-{str(result)}\",\n",
    "            yield result\n",
    "    wrapper_bg.dot = dot\n",
    "    return wrapper_bg\n"
   ]
  },
  {
   "cell_type": "code",
   "execution_count": null,
   "id": "4e0e4836-a536-4828-8217-406395374be3",
   "metadata": {},
   "outputs": [],
   "source": [
    "def graph_inspect( obj, forward ):\n",
    "    trav_forward = nog.TraversalBreadthFirst( forward )\n",
    "    trav_forward.start_from( obj, build_paths=True )\n",
    "    for _, _ in zip(trav_forward, range(50)):\n",
    "        pass\n",
    "    graph_inspect.trav_forward = trav_forward\n",
    "    return forward"
   ]
  },
  {
   "cell_type": "code",
   "execution_count": null,
   "id": "539dc8d1-08a3-404b-b097-1262e9c495ee",
   "metadata": {},
   "outputs": [],
   "source": [
    "@decorator\n",
    "def filter_boring( wrapped, vert, _trav ):\n",
    "    stop_list = {'__dir__'}\n",
    "    def filter_func( item ):\n",
    "        nam = getattr( item, '__name__', 'NoName' )\n",
    "        print( f\"{item}---{type(item)}---{nam=}---{nam in stop_list}\" )\n",
    "        return type(item).__name__ not in stop_list\n",
    "    \"\"\"Universal decorator for filtering\"\"\"\n",
    "    yield from filter( filter_func, wrapped( vert, _trav ) )\n",
    "\n",
    "@decorator\n",
    "def concentrate_edges( wrapped, vert, _trav ):\n",
    "    \"\"\"Universal decorator for edge concentration (GraphViz term)\"\"\"\n",
    "    yield from set(wrapped( vert, _trav ))"
   ]
  },
  {
   "cell_type": "code",
   "execution_count": null,
   "id": "069879a9-62a3-4731-bfdd-02d21300c9b1",
   "metadata": {},
   "outputs": [],
   "source": []
  },
  {
   "cell_type": "code",
   "execution_count": null,
   "id": "710b8d6e-3107-4a88-9a08-80efdcf1a865",
   "metadata": {},
   "outputs": [],
   "source": [
    "class DressCovariant:\n",
    "    # pylint: disable=no-member   #(__wrapped__)\n",
    "    \"\"\"morpher for node names base\"\"\"\n",
    "    def __init__(self, wrapped):\n",
    "        update_wrapper(self, wrapped )\n",
    "    @staticmethod\n",
    "    def dress( vert,):\n",
    "        return str(vert)[:30]\n",
    "    def __call__(self, vert, _trav):\n",
    "        yield from map( self.dress, self.__wrapped__( vert , _trav ) )"
   ]
  },
  {
   "cell_type": "code",
   "execution_count": null,
   "id": "e275e22c-d124-45b9-a48a-3166c8184f09",
   "metadata": {},
   "outputs": [],
   "source": [
    "@adapter_graphviz\n",
    "@concentrate_edges\n",
    "@DressCovariant\n",
    "@filter_boring\n",
    "def all_attr_2(var, _trav):\n",
    "    for attr_name, _ in zip(dir(var), range(20)):\n",
    "        try:\n",
    "            attr = getattr(var, attr_name)\n",
    "            if hasattr( attr, \"__call__\"):\n",
    "                try:\n",
    "                    attr = attr()\n",
    "                except Exception as ex:\n",
    "                    attr = str(ex)[:50]\n",
    "            if attr is not None: #hasattr( attr, \"__hash__\"):\n",
    "                yield attr\n",
    "        except:\n",
    "            #print(f\"!!!{var}-{attr_name}\")\n",
    "            continue\n",
    "graph_inspect( 10, all_attr_2 ).dot"
   ]
  },
  {
   "cell_type": "code",
   "execution_count": null,
   "id": "e9c53a9c-29a4-48cf-bdd4-613dbc63ee35",
   "metadata": {},
   "outputs": [],
   "source": [
    "# class DressCovariant:\n",
    "#     # pylint: disable=no-member   #(__wrapped__)\n",
    "#     \"\"\"morpher for node names base\"\"\"\n",
    "#     def __init__(self, wrapped):\n",
    "#         update_wrapper(self, wrapped )\n",
    "#     @staticmethod\n",
    "#     def dress( vert,):\n",
    "#         return vert % 10\n",
    "#     def __call__(self, vert, _trav):\n",
    "#         yield from map( self.dress, self.__wrapped__(              vert , _trav ) )\n",
    "\n",
    "\n",
    "# @adapter_graphviz\n",
    "# @concentrate_edges\n",
    "# @DressCovariant\n",
    "# def covar_inside(vert, _):\n",
    "#     for attr_name, _ in zip(dir(var), range(50)):\n",
    "#         try:\n",
    "#             attr = getattr(var, attr_name)\n",
    "#             if attr is not None: #hasattr( attr, \"__hash__\"):\n",
    "#                 yield attr\n",
    "#         except:\n",
    "#             continue\n",
    "\n",
    "# graph_inspect( 0, covar_inside ).dot"
   ]
  },
  {
   "cell_type": "code",
   "execution_count": null,
   "id": "c09c9ee3-bb84-4961-8616-edabe0d4b2bd",
   "metadata": {},
   "outputs": [],
   "source": [
    "type(graph_inspect.trav_forward)"
   ]
  },
  {
   "cell_type": "code",
   "execution_count": null,
   "id": "ef5f19d5-f53a-4585-be67-d9b869bce60b",
   "metadata": {},
   "outputs": [],
   "source": [
    "dir(graph_inspect.trav_forward)"
   ]
  },
  {
   "cell_type": "code",
   "execution_count": null,
   "id": "f79ae939-7fb6-4c00-b8cb-da00566f5cfb",
   "metadata": {},
   "outputs": [],
   "source": [
    "graph_inspect( graph_inspect.trav_forward ).dot"
   ]
  },
  {
   "cell_type": "code",
   "execution_count": null,
   "id": "6900b32a-0e96-4733-9642-9f707f2df406",
   "metadata": {},
   "outputs": [],
   "source": []
  },
  {
   "cell_type": "code",
   "execution_count": null,
   "id": "6ff68413-6f5b-4f81-9c93-ea54d8adb275",
   "metadata": {},
   "outputs": [],
   "source": []
  }
 ],
 "metadata": {
  "kernelspec": {
   "display_name": "Python 3 (ipykernel)",
   "language": "python",
   "name": "python3"
  },
  "language_info": {
   "codemirror_mode": {
    "name": "ipython",
    "version": 3
   },
   "file_extension": ".py",
   "mimetype": "text/x-python",
   "name": "python",
   "nbconvert_exporter": "python",
   "pygments_lexer": "ipython3",
   "version": "3.9.6"
  }
 },
 "nbformat": 4,
 "nbformat_minor": 5
}
