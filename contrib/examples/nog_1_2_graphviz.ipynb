{
 "cells": [
  {
   "cell_type": "markdown",
   "id": "6c76ee16-5c52-4007-adee-34eecc0daf45",
   "metadata": {},
   "source": [
    "### Graphviz backend  \n",
    "This example, as far as all *-gv named ones, requres GraphViz tool binaries installed"
   ]
  },
  {
   "cell_type": "code",
   "execution_count": null,
   "id": "2d84645b-8234-4105-8c8a-4e5748a59809",
   "metadata": {},
   "outputs": [],
   "source": [
    "\"\"\"Example of traslation to GraphViz backend.\"\"\"\n",
    "import nographs as nog\n",
    "from graphviz import Digraph"
   ]
  },
  {
   "cell_type": "code",
   "execution_count": null,
   "id": "b9de95d1-0e09-43fc-b905-1508de61bdc7",
   "metadata": {},
   "outputs": [],
   "source": [
    "dict_1= {0:{111,2,4}, 111:{3,5}, 2:{3,6}, 3:{37}, 37:{7}, 4:{5,6}, 5:{57}, 57:{7},\n",
    "         6:{67}, 67:{7}, 7:{} }"
   ]
  },
  {
   "cell_type": "code",
   "execution_count": null,
   "id": "e6c85f10-cd7f-49ba-8612-092188ece4e8",
   "metadata": {},
   "outputs": [],
   "source": [
    "def adapter_graphviz( to_deco ):\n",
    "    \"\"\"translation to GraphViz visitor\"\"\"\n",
    "    dot = Digraph()\n",
    "    def wrapper_bg( vert, _traversal_context ):\n",
    "        \"\"\"translation to GraphViz visitor\"\"\"\n",
    "        dot.node( str( vert ), str( vert ) )\n",
    "        for result in to_deco( vert, _traversal_context ):\n",
    "            dot.edge( str( vert ), str( result ), )\n",
    "            yield result\n",
    "    wrapper_bg.dot = dot\n",
    "    return wrapper_bg\n",
    "\n",
    "@adapter_graphviz\n",
    "def forward( vert, _):\n",
    "    \"\"\"wrapping the dict as `next_vertices` visitor function\"\"\"\n",
    "    return dict_1[ vert ]"
   ]
  },
  {
   "cell_type": "code",
   "execution_count": null,
   "id": "eb8df121-8645-4218-ac22-36be5cd7fa9b",
   "metadata": {},
   "outputs": [],
   "source": [
    "trav_forward = nog.TraversalBreadthFirst( forward )\n",
    "trav_forward.start_from( 0, )\n",
    "list(trav_forward)"
   ]
  },
  {
   "cell_type": "code",
   "execution_count": null,
   "id": "71dfe179-b977-4986-88a0-43b29946038d",
   "metadata": {},
   "outputs": [],
   "source": [
    "forward.dot              # pylint: disable=pointless-statement"
   ]
  }
 ],
 "metadata": {
  "kernelspec": {
   "display_name": "Python 3 (ipykernel)",
   "language": "python",
   "name": "python3"
  },
  "language_info": {
   "codemirror_mode": {
    "name": "ipython",
    "version": 3
   },
   "file_extension": ".py",
   "mimetype": "text/x-python",
   "name": "python",
   "nbconvert_exporter": "python",
   "pygments_lexer": "ipython3",
   "version": "3.9.6"
  }
 },
 "nbformat": 4,
 "nbformat_minor": 5
}
