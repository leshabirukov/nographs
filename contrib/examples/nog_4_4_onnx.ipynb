{
 "cells": [
  {
   "cell_type": "code",
   "execution_count": null,
   "id": "b1609a41-4a36-47af-9a4a-7d0050e32beb",
   "metadata": {},
   "outputs": [],
   "source": [
    "\"\"\"traverse onnx model graph for visualization, requires `onnx` package\"\"\""
   ]
  },
  {
   "cell_type": "code",
   "execution_count": null,
   "id": "6763ae05",
   "metadata": {},
   "outputs": [],
   "source": [
    "%%capture\n",
    "from functools import wraps, cache\n",
    "from collections.abc import Iterable, Callable, Generator\n",
    "import onnx\n",
    "import nographs as nog\n",
    "from graphviz import Digraph"
   ]
  },
  {
   "cell_type": "code",
   "execution_count": null,
   "id": "ac59e9bc",
   "metadata": {},
   "outputs": [],
   "source": [
    "onnx_model = onnx.load(f\"inception_v4_no_w.onnx\")"
   ]
  },
  {
   "cell_type": "code",
   "execution_count": null,
   "id": "07827498-eb63-44d7-a926-7fd217504536",
   "metadata": {},
   "outputs": [],
   "source": [
    "node_style ={\"style\": 'filled',            \"shape\": 'box',\n",
    "             \"align\": 'left',              \"fontsize\": '12',\n",
    "             \"ranksep\":'0.01',             \"height\":'0.02',   \"width\":'0.04',}\n",
    "gr_style = {\"linelength\": '16', \"rankdir\": 'LR'}\n",
    "\n",
    "def adapter_graphviz( wrapped_frw ):\n",
    "    \"\"\"translation to GraphViz visitor\"\"\"\n",
    "    dot = Digraph( node_attr = node_style, graph_attr = gr_style, )\n",
    "    @wraps( wrapped_frw )\n",
    "    def wrapper_bg_frw( vert, _traversal_context ):\n",
    "        \"\"\"visitor wrapper for folloing edge\"\"\"\n",
    "        dot.node( vert, vert )\n",
    "        for result in wrapped_frw( vert, _traversal_context ):\n",
    "            dot.edge( vert, result[0], result[1], )\n",
    "            yield result\n",
    "    return wrapper_bg_frw, dot"
   ]
  },
  {
   "cell_type": "code",
   "execution_count": null,
   "id": "fca150a5-4f14-4805-94aa-dc22b1a0ae1b",
   "metadata": {},
   "outputs": [],
   "source": [
    "def get_onnx_shape( onnx_tensor_type ):\n",
    "    return [x.dim_value for x in onnx_tensor_type.shape.dim]"
   ]
  },
  {
   "cell_type": "code",
   "execution_count": null,
   "id": "49b33172-d5e2-4bd3-987e-ffa2db8a5da8",
   "metadata": {},
   "outputs": [],
   "source": [
    "%%time\n",
    "\n",
    "class onnx_walker:\n",
    "    def __init__( self, graph ):\n",
    "        self.edge_2_out = {}\n",
    "        self.in_2_edge  = {}\n",
    "\n",
    "        def push_to_list_in_dict( edge, value ):\n",
    "            self.edge_2_out.setdefault( edge, [] )\n",
    "            self.edge_2_out[ edge ].append( value )\n",
    "\n",
    "        for node in graph.node:\n",
    "            self.in_2_edge[ node.name ] = node.output\n",
    "            for inedge in node.input:\n",
    "                push_to_list_in_dict( inedge, node.name )\n",
    "        \n",
    "        for output in graph.output:\n",
    "            out_name = str( get_onnx_shape( output.type.tensor_type ) )\n",
    "            push_to_list_in_dict( output.name, out_name )\n",
    "            self.in_2_edge[ out_name ] = ()\n",
    "            \n",
    "        self.inputs = map( lambda o: o.name, (graph.input) )\n",
    "    \n",
    "    def __call__( self, nname, _ ):\n",
    "        def locate_child( edge_names ):\n",
    "            for edge in edge_names:\n",
    "                yield from ( (out, edge) for out in self.edge_2_out[edge] )\n",
    "        if ( nname == '_GRAPH_INPUTS' ):\n",
    "            yield from locate_child( self.inputs )\n",
    "        else:\n",
    "            yield from locate_child( self.in_2_edge[ nname ] )\n",
    "        \n",
    "onnx_walk = onnx_walker( onnx_model.graph )"
   ]
  },
  {
   "cell_type": "code",
   "execution_count": null,
   "id": "d04226cf-d607-4e05-9813-eee32eb6ab85",
   "metadata": {},
   "outputs": [],
   "source": [
    "%%time\n",
    "(f_1, dot) = adapter_graphviz( onnx_walk )\n",
    "\n",
    "trav_b = nog.TraversalBreadthFirst( next_labeled_edges= f_1 )\n",
    "trav_b.start_from( '_GRAPH_INPUTS' )\n",
    "for _ in trav_b:\n",
    "    pass"
   ]
  },
  {
   "cell_type": "code",
   "execution_count": null,
   "id": "1784d1be-3dbe-4c04-8a50-807e692bf1db",
   "metadata": {},
   "outputs": [],
   "source": [
    "dot              # pylint: disable=pointless-statement"
   ]
  },
  {
   "cell_type": "code",
   "execution_count": null,
   "id": "6e15095a-f1dc-492f-a28b-9a5c362e66b3",
   "metadata": {},
   "outputs": [],
   "source": [
    "#help(onnx.save)"
   ]
  },
  {
   "cell_type": "code",
   "execution_count": null,
   "id": "450f9ca1-f6ec-4c46-99c2-cc9cea261c25",
   "metadata": {},
   "outputs": [],
   "source": []
  }
 ],
 "metadata": {
  "kernelspec": {
   "display_name": "Python 3 (ipykernel)",
   "language": "python",
   "name": "python3"
  },
  "language_info": {
   "codemirror_mode": {
    "name": "ipython",
    "version": 3
   },
   "file_extension": ".py",
   "mimetype": "text/x-python",
   "name": "python",
   "nbconvert_exporter": "python",
   "pygments_lexer": "ipython3",
   "version": "3.9.6"
  }
 },
 "nbformat": 4,
 "nbformat_minor": 5
}
