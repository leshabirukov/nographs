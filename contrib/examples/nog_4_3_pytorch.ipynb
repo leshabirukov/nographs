{
 "cells": [
  {
   "cell_type": "code",
   "execution_count": null,
   "id": "0c53c30d-fd6d-4ab8-ad23-86c8f29f25b0",
   "metadata": {},
   "outputs": [],
   "source": [
    "\"\"\"Introduction to pytorch computation graph\"\"\"\n",
    "from functools import wraps\n",
    "from decorator import decorator\n",
    "from collections.abc import Iterable, Callable\n",
    "\n",
    "import nographs as nog\n",
    "from graphviz import Digraph\n",
    "\n",
    "import torch\n",
    "# import torch.nn as nn\n",
    "# import torch.nn.functional as F\n",
    "from torchvision import models"
   ]
  },
  {
   "cell_type": "code",
   "execution_count": null,
   "id": "7fc230f3-2465-4bf6-8288-aef8631ffcce",
   "metadata": {},
   "outputs": [],
   "source": [
    "nn_model = models.convnext_tiny()\n",
    "#nn_model"
   ]
  },
  {
   "cell_type": "code",
   "execution_count": null,
   "id": "08dda6db-80d7-46f8-b792-de503bb84fed",
   "metadata": {},
   "outputs": [],
   "source": [
    "node_style ={\"style\": 'filled',            \"shape\": 'box',\n",
    "             \"align\": 'left',              \"fontsize\": '12',\n",
    "             \"ranksep\":'0.01',             \"height\":'0.02',   \"width\":'0.04',}\n",
    "gr_style = {\"linelength\": '16', \"rankdir\": 'LR'}#\"landscape\":'True',\n",
    "\n",
    "def adapter_graphviz( wrapped ):\n",
    "    \"\"\"translation to GraphViz visitor\"\"\"\n",
    "    def node_id( item ):\n",
    "        return str(hash(item))\n",
    "    dot = Digraph( node_attr = node_style, graph_attr = gr_style, )\n",
    "    @wraps( wrapped )\n",
    "    def wrapper_bg( _item, _trav ):\n",
    "        dot.node( node_id(_item), f\"{str(type(_item))[:20]}\\n{str(_item)[:20]}\" )\n",
    "        for result in wrapped(_item, _trav):\n",
    "            dot.edge( node_id(_item), node_id(result[0]), str(result[1])[:30], )\n",
    "            yield result\n",
    "    wrapper_bg.dot = dot\n",
    "    return wrapper_bg"
   ]
  },
  {
   "cell_type": "code",
   "execution_count": null,
   "id": "52af7bbf-977e-4dbe-8db3-d2322abdadb8",
   "metadata": {},
   "outputs": [],
   "source": [
    "important = {'children'}\n",
    "stop_types = {str, torch.Tensor, int, bool, }\n",
    "sure_not = set(dir(object))\n",
    "printed_types = set()"
   ]
  },
  {
   "cell_type": "code",
   "execution_count": null,
   "id": "dc782b95-9893-42b9-904a-417ac8ba39de",
   "metadata": {},
   "outputs": [],
   "source": [
    "@adapter_graphviz\n",
    "def all_attr(var, _):\n",
    "    global printed_types\n",
    "    print( f\"0000000------ {str(var)[:30]:30} {str(type(var)):30}\")\n",
    "    if isinstance( var, dict):\n",
    "        pass\n",
    "        # for i,n in zip(item[0].items(),inge(200)):\n",
    "        #     yield (i[1], f\"dict[{i[0]}]\"),True\n",
    "    elif isinstance( var, Iterable) and type(var) != str:\n",
    "        for i,n in zip(var,range(200)):\n",
    "            yield (i,f\"[{n}]\")\n",
    "    else:\n",
    "        for attr_name, _ in zip(dir(var), range(2000)):\n",
    "            if attr_name in sure_not:\n",
    "                continue\n",
    "            attr = getattr(var, attr_name)\n",
    "            # if isinstance( attr, Iterable) and type(attr) != str and not isinstance( var, dict):\n",
    "            #     for i,n in zip(attr,range(200)):\n",
    "            #         yield (i,f\"[{n}]\")\n",
    "            #     continue\n",
    "\n",
    "            if isinstance( attr, Callable):\n",
    "                try:\n",
    "                    attr = attr()\n",
    "                except:\n",
    "                    try:\n",
    "                        attr = attr.__name__\n",
    "                        if attr == attr_name:\n",
    "                            attr = '-'*15\n",
    "                    except:\n",
    "                        pass\n",
    "            \n",
    "            if attr_name in important:\n",
    "                yield ( attr, attr_name )\n",
    "            else:\n",
    "                if type(var) not in printed_types:\n",
    "                    printed_types.add(type(var))\n",
    "                    try:\n",
    "                        print( f\"111----, {attr_name:20}  {str(attr)[:20]:20} {str(type(attr))[:20]}\")\n",
    "                    except:\n",
    "                        print( f\"111----, {attr_name:20}\")\n",
    "                        print('#'*300)\n",
    "\n",
    "trav_forward = nog.TraversalBreadthFirst(next_labeled_edges=all_attr)\n",
    "trav_forward.start_from( nn_model, build_paths=True )\n",
    "\n",
    "for _, _ in zip(trav_forward, range(7000)):\n",
    "    pass"
   ]
  },
  {
   "cell_type": "code",
   "execution_count": null,
   "id": "aefda7c9-33d1-464d-a35b-fc053ee2de40",
   "metadata": {},
   "outputs": [],
   "source": [
    "#print(all_attr.dot.source)              # pylint: disable=pointless-statement\n",
    "all_attr.dot"
   ]
  },
  {
   "cell_type": "code",
   "execution_count": null,
   "id": "3536df19-fe96-4310-bdfb-f8f41c1c63a1",
   "metadata": {},
   "outputs": [],
   "source": []
  }
 ],
 "metadata": {
  "kernelspec": {
   "display_name": "Python 3 (ipykernel)",
   "language": "python",
   "name": "python3"
  },
  "language_info": {
   "codemirror_mode": {
    "name": "ipython",
    "version": 3
   },
   "file_extension": ".py",
   "mimetype": "text/x-python",
   "name": "python",
   "nbconvert_exporter": "python",
   "pygments_lexer": "ipython3",
   "version": "3.9.6"
  }
 },
 "nbformat": 4,
 "nbformat_minor": 5
}
