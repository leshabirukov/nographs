{
 "cells": [
  {
   "cell_type": "markdown",
   "id": "58c75739-93bf-4b30-b14e-19897653f6e9",
   "metadata": {},
   "source": [
    "### Graph transformation history"
   ]
  },
  {
   "cell_type": "code",
   "execution_count": null,
   "id": "2d84645b-8234-4105-8c8a-4e5748a59809",
   "metadata": {},
   "outputs": [],
   "source": [
    "import nographs as nog\n",
    "from graphviz import Digraph\n",
    "import functools\n",
    "import ast"
   ]
  },
  {
   "cell_type": "code",
   "execution_count": null,
   "id": "b9de95d1-0e09-43fc-b905-1508de61bdc7",
   "metadata": {},
   "outputs": [],
   "source": [
    "dict_2= {0:{1,}, 1:{2,3}, 2:{4,}, 3:{}, 4:{} }"
   ]
  },
  {
   "cell_type": "code",
   "execution_count": null,
   "id": "c2b3bd0d-d1be-4195-a8b1-25479d20bb6f",
   "metadata": {},
   "outputs": [],
   "source": [
    "def to_id(x):\n",
    "    return f\"{(str( x ))}\"\n",
    "\n",
    "node_style =dict( style='filled', shape='box', \n",
    "                                align='left',\n",
    "                                fontsize='12',\n",
    "                                ranksep='0.01',\n",
    "                                height='0.02',width='0.04',)\n",
    "gr_style = dict( linelength=\"16\",rankdir='LR',size='16,8')#landscape=\"True\",splines='curved' ,layout=\"neato\"\n",
    "\n",
    "def adapter_graphviz( wrapped ):\n",
    "    dot = Digraph( node_attr = node_style, graph_attr = gr_style, )\n",
    "    @functools.wraps( wrapped )\n",
    "    def wrapper_bg( x, t ):\n",
    "        node = dot.node( to_id(x), str(x) )\n",
    "        for result in wrapped(x, t):\n",
    "            dot.edge( to_id(x), to_id( result ), )# label=f\"{str(x)}-{str(result)}\",\n",
    "            yield result\n",
    "    wrapper_bg.dot = dot\n",
    "    return wrapper_bg\n",
    "    "
   ]
  },
  {
   "cell_type": "code",
   "execution_count": null,
   "id": "8b8ccc6c-f03e-4cf2-b8c9-a1b2ae0a7a69",
   "metadata": {},
   "outputs": [],
   "source": [
    "class GraphMorph:\n",
    "    def __init__(self, wrapped):\n",
    "        functools.update_wrapper(self, wrapped )\n",
    "    def __call__(self, x, t):\n",
    "        yield from self.__wrapped__( x, t )\n",
    "\n",
    "class GraphMorphDecorateNodes(GraphMorph):\n",
    "    def __init__(self,*argc,**argv):\n",
    "        super().__init__(*argc,**argv)\n",
    "    @staticmethod\n",
    "    def dress( x,):\n",
    "        return x\n",
    "    @staticmethod\n",
    "    def undress( x,):\n",
    "        return x\n",
    "    def __call__(self, x, t):\n",
    "        yield from map( self.dress, self.__wrapped__( self.undress(x), t ) )\n",
    "\n",
    "class DecoName(GraphMorphDecorateNodes):\n",
    "    def __init__(self,*argc,**argv):\n",
    "        super().__init__(*argc,**argv)\n",
    "    @staticmethod\n",
    "    def dress( x,):\n",
    "        return f\"-{x}-\"\n",
    "    @staticmethod\n",
    "    def undress( x,):\n",
    "        return ast.literal_eval(x[1:-1])"
   ]
  },
  {
   "cell_type": "code",
   "execution_count": null,
   "id": "dddc6115-b580-431f-985d-be20a639f517",
   "metadata": {},
   "outputs": [],
   "source": [
    "class FreeForget(GraphMorph):  # All possible paths\n",
    "    def __init__(self,*argc,**argv):        super().__init__(*argc,**argv)\n",
    "        \n",
    "    def __call__(self, x, t):\n",
    "        yield x # identity morphism\n",
    "        for ch1 in self.__wrapped__( x, t ):\n",
    "            yield from self.__call__(ch1, t) # recursion"
   ]
  },
  {
   "cell_type": "code",
   "execution_count": null,
   "id": "15772a40-986a-4750-873c-c3c5f985fce7",
   "metadata": {},
   "outputs": [],
   "source": [
    "class IDFunctor(GraphMorphDecorateNodes):\n",
    "    def __init__(self,*argc,**argv):\n",
    "        super().__init__(*argc,**argv)\n",
    "    @staticmethod\n",
    "    def dress( x,):\n",
    "        return f\"-{x}-\"\n",
    "    @staticmethod\n",
    "    def undress( x,):\n",
    "        return ast.literal_eval(x[1:-1])\n",
    "    def __call__(self, x, t):\n",
    "        if type(x) is int:\n",
    "            yield from                  self.__wrapped__(              x,  t )\n",
    "            yield self.dress(x)\n",
    "        else:\n",
    "            yield from map( self.dress, self.__wrapped__( self.undress(x), t ) )\n",
    "            #yield from                  self.__wrapped__( self.undress(x), t )"
   ]
  },
  {
   "cell_type": "code",
   "execution_count": null,
   "id": "7319e56b-da9b-4c3a-b396-2cd2268fa652",
   "metadata": {},
   "outputs": [],
   "source": [
    "class FreeForgetFunctor(GraphMorphDecorateNodes):\n",
    "    def __init__(self, wrapped ):\n",
    "        super().__init__(wrapped)\n",
    "    @staticmethod\n",
    "    def dress( x,):\n",
    "        return f\"-{x}-\"\n",
    "    @staticmethod\n",
    "    def undress( x,):\n",
    "        return ast.literal_eval(x[1:-1])\n",
    "    def ff(self, x, t):\n",
    "        yield x # identity morphism\n",
    "        for ch1 in self.__wrapped__( x, t ):\n",
    "            yield from self.ff(ch1, t) # recursion        \n",
    "    def __call__(self, x, t):\n",
    "        if type(x) is int:\n",
    "            yield from                  self.__wrapped__(              x,  t )\n",
    "            yield self.dress(x)\n",
    "        else:\n",
    "            yield from map( self.dress, self.ff( self.undress(x), t ) )"
   ]
  },
  {
   "cell_type": "code",
   "execution_count": null,
   "id": "0f7b0355-dbaf-4dc8-949f-f0a88c49ad2a",
   "metadata": {},
   "outputs": [],
   "source": [
    "class graphviz_bipart(  ):\n",
    "    def __init__(self, predicate ):\n",
    "        self.dot = {}\n",
    "        self.dot[(False,False)] = Digraph( name=\"cluster_0\" )\n",
    "        self.dot[(True, True) ] = Digraph( name=\"cluster_1\" )\n",
    "        self.dot[(False,True) ] = Digraph( name='master')\n",
    "        self.p = predicate\n",
    "    def finalize(self):\n",
    "        self.dot[(False,True) ].subgraph(self.dot[(False,False)])\n",
    "        self.dot[(False,True) ].subgraph(self.dot[(True, True) ])\n",
    "        return  self\n",
    "    def get_dot(self):\n",
    "        return  self.finalize().dot[(False,True) ]    \n",
    "    def __call__( self, to_wrap ):\n",
    "        @functools.wraps(to_wrap)\n",
    "        def wrapper( x,t ):\n",
    "            node = self.dot[self.p(x),self.p(x)].node( to_id(x), str(x) )\n",
    "            for result in to_wrap(x, t):\n",
    "                colour = 'black' if self.p(x) == self.p(result) else 'red'\n",
    "                self.dot[(self.p(result),self.p(x))].edge( to_id(x), to_id(result), color=colour)\n",
    "                yield result\n",
    "        wrapper.get_dot = self.get_dot\n",
    "        return wrapper"
   ]
  },
  {
   "cell_type": "code",
   "execution_count": null,
   "id": "dcc75d76-57c5-462c-bb22-40ffc81624d7",
   "metadata": {},
   "outputs": [],
   "source": [
    "def cat_dog():\n",
    "    @graphviz_bipart( lambda x: type(x) is int )\n",
    "    @FreeForgetFunctor\n",
    "    def cat(x, _):\n",
    "        return dict_2[x]\n",
    "    return cat\n",
    "\n",
    "cat_3 = cat_dog()\n",
    "trav_forward = nog.TraversalBreadthFirst( cat_3 )\n",
    "trav_forward.start_from( 0, )\n",
    "print(str( list(trav_forward) ))\n",
    "the_dot = cat_3.get_dot()\n",
    "the_dot"
   ]
  },
  {
   "cell_type": "code",
   "execution_count": null,
   "id": "e188d77d-523a-49ff-bfe5-4ea2badee59b",
   "metadata": {},
   "outputs": [],
   "source": [
    "def bipart_the_dot( dot ):\n",
    "    pass"
   ]
  },
  {
   "cell_type": "code",
   "execution_count": null,
   "id": "7a586f01-ba4c-4d3a-897c-d593d4354605",
   "metadata": {},
   "outputs": [],
   "source": [
    "(the_dot.source)"
   ]
  },
  {
   "cell_type": "code",
   "execution_count": null,
   "id": "c24b7baf-b825-45bb-89fa-efcae3328392",
   "metadata": {},
   "outputs": [],
   "source": [
    "cat_3"
   ]
  },
  {
   "cell_type": "code",
   "execution_count": null,
   "id": "58b35f24-d17d-45a6-a6d5-02a4595c4972",
   "metadata": {},
   "outputs": [],
   "source": [
    "cat_3.__dict__#__closure__[0].cell_contents.get_dot()"
   ]
  },
  {
   "cell_type": "code",
   "execution_count": null,
   "id": "82585afe-e344-4529-bd94-d076ee707be9",
   "metadata": {},
   "outputs": [],
   "source": [
    "cat_3.get_dot()"
   ]
  },
  {
   "cell_type": "code",
   "execution_count": null,
   "id": "212cb4e4-f890-4888-aba9-016481d3eb92",
   "metadata": {},
   "outputs": [],
   "source": [
    "def join( f, seq ):\n",
    "    for x in seq:\n",
    "        yield from f(x)\n",
    "\n",
    "sum( join( range, (5,2,7)))"
   ]
  },
  {
   "cell_type": "code",
   "execution_count": null,
   "id": "f10ae4a9-3960-4814-ab76-c33a69bc8162",
   "metadata": {},
   "outputs": [],
   "source": []
  }
 ],
 "metadata": {
  "kernelspec": {
   "display_name": "Python 3 (ipykernel)",
   "language": "python",
   "name": "python3"
  },
  "language_info": {
   "codemirror_mode": {
    "name": "ipython",
    "version": 3
   },
   "file_extension": ".py",
   "mimetype": "text/x-python",
   "name": "python",
   "nbconvert_exporter": "python",
   "pygments_lexer": "ipython3",
   "version": "3.9.6"
  }
 },
 "nbformat": 4,
 "nbformat_minor": 5
}
