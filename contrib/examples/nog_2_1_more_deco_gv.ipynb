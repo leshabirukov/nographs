{
 "cells": [
  {
   "cell_type": "markdown",
   "id": "e30b2915-6383-4b89-be52-4fd06338333b",
   "metadata": {},
   "source": [
    "### Processing as Decorating II"
   ]
  },
  {
   "cell_type": "code",
   "execution_count": null,
   "id": "2d84645b-8234-4105-8c8a-4e5748a59809",
   "metadata": {},
   "outputs": [],
   "source": [
    "import nographs as nog\n",
    "from graphviz import Digraph"
   ]
  },
  {
   "cell_type": "code",
   "execution_count": null,
   "id": "b9de95d1-0e09-43fc-b905-1508de61bdc7",
   "metadata": {},
   "outputs": [],
   "source": [
    "dict_1= {0:{1,2}, 1:{2,0}, 2:{0,1}, }\n",
    "\n",
    "# dict_2= {0:{1,2,4}, 1:{3,5}, 2:{3,6}, 3:{37}, 37:{7}, 4:{5,6}, 5:{57}, 57:{7}, \n",
    "#          6:{67}, 67:{7}, 7:{} }\n",
    "\n",
    "def forward(x, _):\n",
    "    return dict_1[x]"
   ]
  },
  {
   "cell_type": "code",
   "execution_count": null,
   "id": "c2b3bd0d-d1be-4195-a8b1-25479d20bb6f",
   "metadata": {},
   "outputs": [],
   "source": [
    "# https://www.graphviz.org/doc/info/attrs.html\n",
    "node_style =dict( style='filled', shape='box', \n",
    "                                align='left',\n",
    "                                fontsize='12',\n",
    "                                ranksep='0.01',\n",
    "                                height='0.02',width='0.04',)\n",
    "gr_style = dict( linelength=\"16\",rankdir='LR')#landscape=\"True\",layout=\"neato\",splines='curved' \n",
    "\n",
    "def adapter_graphviz( to_deco ):\n",
    "    dot = Digraph( node_attr = node_style, graph_attr = gr_style, )\n",
    "\n",
    "    def wrapper_bg( x, t ):\n",
    "        node = dot.node( str(hash(x)), str(x) )\n",
    "        for result in to_deco(x, t):\n",
    "            dot.edge( str(hash( x )), str(hash( result )), )\n",
    "            yield result\n",
    "    wrapper_bg.shared = getattr( to_deco,\"shared\",{})\n",
    "    wrapper_bg.shared[\"dot\"] = dot\n",
    "    return wrapper_bg"
   ]
  },
  {
   "cell_type": "code",
   "execution_count": null,
   "id": "cc8304ca-e755-493f-8f48-97f0a26c7451",
   "metadata": {},
   "outputs": [],
   "source": [
    "class EdgeSplitter:\n",
    "    def __init__(self, to_deco):\n",
    "        self.to_deco = to_deco\n",
    "        self.shared = getattr( to_deco,\"shared\",{}).copy()\n",
    "        self.newbies = set()\n",
    "        # update_wrapper(self, to_deco, updated=())\n",
    "    def __call__(self, x, t):\n",
    "        if x in self.newbies:\n",
    "            yield x[1]\n",
    "        else:\n",
    "            for result in self.to_deco(x, t):\n",
    "                # creating new vertex at the middle of edge, new id is tuple of edge's ends\n",
    "                self.newbies.add((x, result))\n",
    "                yield (x, result)\n",
    "\n",
    "# test with reenterability\n",
    "@adapter_graphviz\n",
    "@EdgeSplitter\n",
    "@EdgeSplitter\n",
    "def double_splitted(x, _):\n",
    "    return dict_1[x]"
   ]
  },
  {
   "cell_type": "code",
   "execution_count": null,
   "id": "0c51cd0b-a942-481b-968f-5fd5aa587907",
   "metadata": {},
   "outputs": [],
   "source": [
    "trav_forward = nog.TraversalBreadthFirst( double_splitted )\n",
    "trav_forward.start_from( 0, build_paths=True )\n",
    "str( list(trav_forward) )"
   ]
  },
  {
   "cell_type": "code",
   "execution_count": null,
   "id": "b211ff8f-b44e-4837-a32e-105d06fa6810",
   "metadata": {},
   "outputs": [],
   "source": [
    "double_splitted.shared[\"dot\"].attr(size='8,4')\n",
    "# double_splitted.shared[\"dot\"].attr( layout=\"neato\")\n",
    "double_splitted.shared[\"dot\"]"
   ]
  },
  {
   "cell_type": "code",
   "execution_count": null,
   "id": "55c092b2-47e7-4ae6-a5c2-912fbcf4bf41",
   "metadata": {},
   "outputs": [],
   "source": []
  }
 ],
 "metadata": {
  "kernelspec": {
   "display_name": "Python 3 (ipykernel)",
   "language": "python",
   "name": "python3"
  },
  "language_info": {
   "codemirror_mode": {
    "name": "ipython",
    "version": 3
   },
   "file_extension": ".py",
   "mimetype": "text/x-python",
   "name": "python",
   "nbconvert_exporter": "python",
   "pygments_lexer": "ipython3",
   "version": "3.9.6"
  }
 },
 "nbformat": 4,
 "nbformat_minor": 5
}
