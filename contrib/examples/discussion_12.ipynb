{
 "cells": [
  {
   "cell_type": "code",
   "execution_count": null,
   "id": "fa7bfa38-82b7-47ca-a9e5-ebb4ba223961",
   "metadata": {},
   "outputs": [],
   "source": [
    "\"\"\"from https://github.com/HeWeMel/nographs/discussions/12, Computing strongly connected components\"\"\""
   ]
  },
  {
   "cell_type": "code",
   "execution_count": null,
   "id": "ba026328-960a-4871-827b-a136d837541f",
   "metadata": {},
   "outputs": [],
   "source": [
    "import operator # import lt, gt\n",
    "from functools import update_wrapper, cmp_to_key\n",
    "from itertools import chain, repeat\n",
    "from collections import defaultdict\n",
    "from decorator import decorator\n",
    "import nographs as nog\n",
    "from graphviz import Digraph"
   ]
  },
  {
   "cell_type": "code",
   "execution_count": null,
   "id": "409c5c40-92e4-46c5-9a81-6e485d36695f",
   "metadata": {},
   "outputs": [],
   "source": [
    "dict_1= {0:{111,2,4}, 111:{3,5}, 2:{3,6,0}, 3:{37,0}, 37:{7}, 4:{5,6}, 5:{57}, 57:{7},\n",
    "         6:{67}, 67:{7}, 7:{6} }"
   ]
  },
  {
   "cell_type": "code",
   "execution_count": null,
   "id": "4c481143-becd-49de-9e16-300d50db6ded",
   "metadata": {},
   "outputs": [],
   "source": [
    "class Adapter_Graphviz:\n",
    "    \"\"\"translation to GraphViz visitor\"\"\"\n",
    "    def __init__(self, to_deco):\n",
    "        update_wrapper(self, to_deco )\n",
    "        self.dot = Digraph()\n",
    "    def __call__(self, vert, _trav):\n",
    "        \"\"\"visitor wrapper\"\"\"\n",
    "        #print(f' Adapter_Graphviz {vert=}')\n",
    "        #print(f' Adapter_Graphviz {dict(_trav.paths._predecessor)}')\n",
    "        self.dot.node( str(vert), str(vert) )\n",
    "        \n",
    "        pred = _trav.paths._predecessor[ vert ]\n",
    "        if pred is not None:\n",
    "            self.dot.edge( str( pred ), str( vert ), color=\"red\" )\n",
    "\n",
    "        for result, label in self.__wrapped__( (pred, vert), _trav):\n",
    "            self.dot.edge( str(vert), str(result), str(label), )\n",
    "            yield result, label\n",
    "\n",
    "# def adapter_graphviz( wrapped ):\n",
    "#     \"\"\"translation to GraphViz visitor\"\"\"\n",
    "#     dot = Digraph( node_attr = node_style, graph_attr = gr_style, )\n",
    "#     @wraps( wrapped )\n",
    "#     def wrapper_bg( _edge, _trav ):\n",
    "#         dot.node( str(_edge), str(_edge) )\n",
    "#         for result in wrapped(_edge, _trav):\n",
    "#             dot.edge( str(_edge), str(result[0]), str(result[1]), )\n",
    "#             yield result\n",
    "#     wrapper_bg.dot = dot\n",
    "#     return wrapper_bg"
   ]
  },
  {
   "cell_type": "code",
   "execution_count": null,
   "id": "0e56c4fa-1775-4e33-976a-3d1ca4f4d63c",
   "metadata": {},
   "outputs": [],
   "source": [
    "class Components_Kosaraju_PhaseI:\n",
    "    # def _lt_postorder( self, v1, v2 ):\n",
    "    #     return operator.lt(self.visit_order[v1], self.visit_order[v2], )\n",
    "    def __init__(self, wrapped):\n",
    "        update_wrapper(self, wrapped )\n",
    "        self.visit_order ={}\n",
    "        # self.notify_parent ={}\n",
    "        self.time =0\n",
    "        # self.lt_postorder = self._lt_postorder # to be lifted with `update_wrapper`-s\n",
    "    def __call__(self, edge, _trav):\n",
    "        print(f'{edge=}')\n",
    "        pred, vert = edge\n",
    "        # print(f\"{x=:4}   {self.time:2}\")\n",
    "        \n",
    "        # self.visit_order[                     x ] = self.time\n",
    "        for result in self.__wrapped__(vert, _trav):\n",
    "            self.time += 1\n",
    "            #print(f'{result=}')\n",
    "            yield result[1],self.time\n",
    "        self.visit_order[ pred ] = self.time\n",
    "    def __repr__(self):\n",
    "        return self.visit_order"
   ]
  },
  {
   "cell_type": "code",
   "execution_count": null,
   "id": "8e558871-c3e9-4a21-b84e-46b690b42f3e",
   "metadata": {},
   "outputs": [],
   "source": [
    "@decorator\n",
    "def edge_name_as_target( wrapped, vert, _trav ):\n",
    "    for item in wrapped( vert, _trav ):\n",
    "        print(f'{item=}')\n",
    "        yield (item, item)\n",
    "\n",
    "#@edge_name_as_target\n",
    "@Adapter_Graphviz\n",
    "@Components_Kosaraju_PhaseI\n",
    "def forward_I( vert, _):\n",
    "    \"\"\"wrapping the dict as `next_vertices` visitor function\"\"\"\n",
    "    #print(f'{vert=}')\n",
    "    return zip( repeat(vert), dict_1[ vert ])"
   ]
  },
  {
   "cell_type": "code",
   "execution_count": null,
   "id": "7de9a957-d8f1-482e-ad73-4f90131c9f3c",
   "metadata": {},
   "outputs": [],
   "source": [
    "trav_forward = nog.TraversalBreadthFirst(next_labeled_edges=forward_I)\n",
    "trav_forward.start_from( 0, build_paths=True )\n",
    "list(trav_forward)"
   ]
  },
  {
   "cell_type": "code",
   "execution_count": null,
   "id": "2fd2ddbf-b8e9-433f-a87d-0185a061efae",
   "metadata": {},
   "outputs": [],
   "source": [
    "forward_I.dot              # pylint: disable=pointless-statement\n",
    "#[0, 2, 67, 3, 5, 6, 7, 37, 4, 111, 57]"
   ]
  },
  {
   "cell_type": "code",
   "execution_count": null,
   "id": "45e93166-a556-4ddb-9e98-3017b8ca6c2c",
   "metadata": {},
   "outputs": [],
   "source": [
    "print(trav_forward.paths._predecessor_collection)\n",
    "print(trav_forward.paths._predecessor)\n",
    "print(trav_forward.visited)\n",
    "forward_I.visit_order\n",
    "\n",
    "dict(sorted(forward_I.visit_order.items(), key=lambda item: item[1]))"
   ]
  },
  {
   "cell_type": "code",
   "execution_count": null,
   "id": "2e2a24f0-852e-4fcf-bfa2-9d3600d67d71",
   "metadata": {},
   "outputs": [],
   "source": [
    "#dir(trav_forward.paths)"
   ]
  },
  {
   "cell_type": "code",
   "execution_count": null,
   "id": "61e8b62a-67bc-446b-ace5-cfe9ce6b19a7",
   "metadata": {},
   "outputs": [],
   "source": [
    "def next_component( vert ):\n",
    "    \"\"\"`next_vertices` for component traversal\"\"\"\n",
    "    best_top = best_bot = vert\n",
    "    for pretender in dict_1[ vert ]:\n",
    "        if pretender > best_top:\n",
    "            best_top = pretender\n",
    "        elif pretender > best_bot:\n",
    "            best_bot = pretender\n",
    "    return (best_top, best_bot)\n",
    "    "
   ]
  },
  {
   "cell_type": "code",
   "execution_count": null,
   "id": "c9cf7c63-8246-4d28-adcc-6d4c0e4ebeec",
   "metadata": {},
   "outputs": [],
   "source": [
    "def get_best( min_or_max, vert ):\n",
    "    \"\"\"`next_vertices` for component traversal Kosaraju\"\"\"\n",
    "    best = min_or_max( chain( (vert,), dict_1[ vert ]) )\n",
    "    if vert == best:\n",
    "        return vert\n",
    "    return get_best( min_or_max, best )"
   ]
  },
  {
   "cell_type": "code",
   "execution_count": null,
   "id": "7358f9c5-36ca-4ca0-81dc-24e6114b8594",
   "metadata": {},
   "outputs": [],
   "source": [
    "def get_component( vert ):\n",
    "    \"\"\"`next_vertices` for component traversal\"\"\"\n",
    "    return (get_best( min, vert ), get_best( max, vert ), )"
   ]
  },
  {
   "cell_type": "code",
   "execution_count": null,
   "id": "d65d57b8-686b-447a-990e-f9ab2fb884fc",
   "metadata": {},
   "outputs": [],
   "source": [
    "def invert_from_dict( graph ):\n",
    "    rev = defaultdict(lambda:set())\n",
    "    for vert, dests in graph.items():\n",
    "        for dest in dests:\n",
    "            rev[ dest ].add(vert)\n",
    "    return rev\n",
    "#list(zip(dir(forward.__wrapped__),dir(forward),))\n",
    "#forward.visit_order\n",
    "invert_from_dict( dict_1 )"
   ]
  },
  {
   "cell_type": "code",
   "execution_count": null,
   "id": "317f3fa3-aa6f-4a0d-a2bb-e9eacb2c2717",
   "metadata": {},
   "outputs": [],
   "source": [
    "sorted( invert_from_dict( dict_1 )[7], \n",
    "       key=cmp_to_key( forward_I.lt_postorder ) )"
   ]
  },
  {
   "cell_type": "code",
   "execution_count": null,
   "id": "449b54dc-a3d2-4bb1-98d7-215f02341e47",
   "metadata": {},
   "outputs": [],
   "source": [
    "class Components_Kosaraju_PhaseII:\n",
    "    def lt_postorder( self, v1, v2 ):\n",
    "        return operator.lt(forward_I.visit_order[v1], forward_I.visit_order[v2], )\n",
    "    def __init__(self, wrapped):\n",
    "        update_wrapper(self, wrapped )\n",
    "    def __call__(self, x, t):\n",
    "        for result in self.__wrapped__(x, t):\n",
    "            yield result\n",
    "    def __repr__(self):\n",
    "        return self.visit_order"
   ]
  },
  {
   "cell_type": "code",
   "execution_count": null,
   "id": "8488124f-ce06-4de4-8604-d3ca9c832e5d",
   "metadata": {},
   "outputs": [],
   "source": [
    "subtrees = sorted( trav_forward.visited,\n",
    "       key=cmp_to_key( forward_I.lt_postorder ) )\n",
    "\n",
    "#@Components_Kosaraju_PhaseI\n",
    "inv_graph = invert_from_dict(dict_1)\n",
    "@Adapter_Graphviz\n",
    "def forward_II( vert, _):\n",
    "    \"\"\"wrapping the dict as `next_vertices` visitor function\"\"\"\n",
    "    if vert ==-1:\n",
    "        return subtrees\n",
    "    return inv_graph[ vert ]\n",
    "\n",
    "subtrees"
   ]
  },
  {
   "cell_type": "code",
   "execution_count": null,
   "id": "d0eefeb4-16cd-4111-b5fe-f26e2418263d",
   "metadata": {},
   "outputs": [],
   "source": [
    "trav_II = nog.TraversalDepthFirst( forward_II )\n",
    "trav_II.start_from( -1, build_paths=True )\n",
    "list(trav_II)"
   ]
  },
  {
   "cell_type": "code",
   "execution_count": null,
   "id": "9845d495-b1b9-488f-9166-a6b46a76172e",
   "metadata": {},
   "outputs": [],
   "source": [
    "forward_II.dot"
   ]
  },
  {
   "cell_type": "code",
   "execution_count": null,
   "id": "33340334-fa14-488b-90de-2990627903e9",
   "metadata": {},
   "outputs": [],
   "source": [
    "trav_forward.visited"
   ]
  },
  {
   "cell_type": "code",
   "execution_count": null,
   "id": "4ef1cfc9-4c49-45c0-a86f-bf7dd50149d9",
   "metadata": {},
   "outputs": [],
   "source": [
    "sorted( trav_forward.visited,\n",
    "       key=cmp_to_key( forward_I.lt_postorder ) )"
   ]
  },
  {
   "cell_type": "code",
   "execution_count": null,
   "id": "f71e59d9-06ca-42b5-8e86-53f8620847c9",
   "metadata": {},
   "outputs": [],
   "source": [
    "forward_I.visit_order"
   ]
  },
  {
   "cell_type": "code",
   "execution_count": null,
   "id": "cd3ec9a9-c54b-4ec8-a73f-ff064996253f",
   "metadata": {},
   "outputs": [],
   "source": []
  }
 ],
 "metadata": {
  "kernelspec": {
   "display_name": "Python 3 (ipykernel)",
   "language": "python",
   "name": "python3"
  },
  "language_info": {
   "codemirror_mode": {
    "name": "ipython",
    "version": 3
   },
   "file_extension": ".py",
   "mimetype": "text/x-python",
   "name": "python",
   "nbconvert_exporter": "python",
   "pygments_lexer": "ipython3",
   "version": "3.9.6"
  }
 },
 "nbformat": 4,
 "nbformat_minor": 5
}
