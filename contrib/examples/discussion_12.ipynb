{
 "cells": [
  {
   "cell_type": "code",
   "execution_count": 1,
   "id": "fa7bfa38-82b7-47ca-a9e5-ebb4ba223961",
   "metadata": {},
   "outputs": [
    {
     "data": {
      "text/plain": [
       "'from https://github.com/HeWeMel/nographs/discussions/12, Computing strongly connected components'"
      ]
     },
     "execution_count": 1,
     "metadata": {},
     "output_type": "execute_result"
    }
   ],
   "source": [
    "\"\"\"from https://github.com/HeWeMel/nographs/discussions/12, Computing strongly connected components\"\"\""
   ]
  },
  {
   "cell_type": "code",
   "execution_count": 2,
   "id": "ba026328-960a-4871-827b-a136d837541f",
   "metadata": {},
   "outputs": [],
   "source": [
    "import nographs as nog\n",
    "from graphviz import Digraph"
   ]
  },
  {
   "cell_type": "code",
   "execution_count": 3,
   "id": "409c5c40-92e4-46c5-9a81-6e485d36695f",
   "metadata": {},
   "outputs": [],
   "source": [
    "dict_1= {0:{111,2,4}, 111:{3,5}, 2:{3,6,0}, 3:{37,0}, 37:{7}, 4:{5,6}, 5:{57}, 57:{7},\n",
    "         6:{67}, 67:{7}, 7:{6} }"
   ]
  },
  {
   "cell_type": "code",
   "execution_count": 11,
   "id": "4c481143-becd-49de-9e16-300d50db6ded",
   "metadata": {},
   "outputs": [],
   "source": [
    "def adapter_graphviz( to_deco ):\n",
    "    \"\"\"translation to GraphViz visitor\"\"\"\n",
    "    dot = Digraph()\n",
    "    def wrapper_bg( vert, _traversal_context ):\n",
    "        \"\"\"visitor wrapper\"\"\"\n",
    "        dot.node( str( vert ), str( vert ) )\n",
    "        print( 'v  ', (_traversal_context.visited) )\n",
    "        print( 'pc ', (_traversal_context.paths._predecessor_collection) )\n",
    "        print( 'p. ', (_traversal_context.paths._predecessor) )\n",
    "        for result in to_deco( vert, _traversal_context ):\n",
    "            dot.edge( str( vert ), str( result ), )\n",
    "            yield result\n",
    "    wrapper_bg.dot = dot\n",
    "    return wrapper_bg\n",
    "\n",
    "@adapter_graphviz\n",
    "def forward( vert, _):\n",
    "    \"\"\"wrapping the dict as `next_vertices` visitor function\"\"\"\n",
    "    return dict_1[ vert ]"
   ]
  },
  {
   "cell_type": "code",
   "execution_count": 12,
   "id": "7de9a957-d8f1-482e-ad73-4f90131c9f3c",
   "metadata": {},
   "outputs": [
    {
     "name": "stdout",
     "output_type": "stream",
     "text": [
      "v   {0}\n",
      "pc  {0: 0}\n",
      "p.  {0: 0}\n",
      "v   {0, 2, 4, 111}\n",
      "pc  {0: 0, 2: 0, 4: 0, 111: 0}\n",
      "p.  {0: 0, 2: 0, 4: 0, 111: 0}\n",
      "v   {0, 2, 3, 4, 6, 111}\n",
      "pc  {0: 0, 2: 0, 4: 0, 111: 0, 3: 2, 6: 2}\n",
      "p.  {0: 0, 2: 0, 4: 0, 111: 0, 3: 2, 6: 2}\n",
      "v   {0, 2, 3, 4, 5, 6, 111}\n",
      "pc  {0: 0, 2: 0, 4: 0, 111: 0, 3: 2, 6: 2, 5: 4}\n",
      "p.  {0: 0, 2: 0, 4: 0, 111: 0, 3: 2, 6: 2, 5: 4}\n",
      "v   {0, 2, 3, 4, 5, 6, 111}\n",
      "pc  {0: 0, 2: 0, 4: 0, 111: 0, 3: 2, 6: 2, 5: 4}\n",
      "p.  {0: 0, 2: 0, 4: 0, 111: 0, 3: 2, 6: 2, 5: 4}\n",
      "v   {0, 2, 3, 4, 5, 6, 37, 111}\n",
      "pc  {0: 0, 2: 0, 4: 0, 111: 0, 3: 2, 6: 2, 5: 4, 37: 3}\n",
      "p.  {0: 0, 2: 0, 4: 0, 111: 0, 3: 2, 6: 2, 5: 4, 37: 3}\n",
      "v   {0, 2, 3, 4, 5, 6, 37, 67, 111}\n",
      "pc  {0: 0, 2: 0, 4: 0, 111: 0, 3: 2, 6: 2, 5: 4, 37: 3, 67: 6}\n",
      "p.  {0: 0, 2: 0, 4: 0, 111: 0, 3: 2, 6: 2, 5: 4, 37: 3, 67: 6}\n",
      "v   {0, 2, 3, 4, 5, 6, 37, 67, 111, 57}\n",
      "pc  {0: 0, 2: 0, 4: 0, 111: 0, 3: 2, 6: 2, 5: 4, 37: 3, 67: 6, 57: 5}\n",
      "p.  {0: 0, 2: 0, 4: 0, 111: 0, 3: 2, 6: 2, 5: 4, 37: 3, 67: 6, 57: 5}\n",
      "v   {0, 2, 3, 4, 5, 6, 37, 67, 7, 111, 57}\n",
      "pc  {0: 0, 2: 0, 4: 0, 111: 0, 3: 2, 6: 2, 5: 4, 37: 3, 67: 6, 57: 5, 7: 37}\n",
      "p.  {0: 0, 2: 0, 4: 0, 111: 0, 3: 2, 6: 2, 5: 4, 37: 3, 67: 6, 57: 5, 7: 37}\n",
      "v   {0, 2, 3, 4, 5, 6, 37, 67, 7, 111, 57}\n",
      "pc  {0: 0, 2: 0, 4: 0, 111: 0, 3: 2, 6: 2, 5: 4, 37: 3, 67: 6, 57: 5, 7: 37}\n",
      "p.  {0: 0, 2: 0, 4: 0, 111: 0, 3: 2, 6: 2, 5: 4, 37: 3, 67: 6, 57: 5, 7: 37}\n",
      "v   {0, 2, 3, 4, 5, 6, 37, 67, 7, 111, 57}\n",
      "pc  {0: 0, 2: 0, 4: 0, 111: 0, 3: 2, 6: 2, 5: 4, 37: 3, 67: 6, 57: 5, 7: 37}\n",
      "p.  {0: 0, 2: 0, 4: 0, 111: 0, 3: 2, 6: 2, 5: 4, 37: 3, 67: 6, 57: 5, 7: 37}\n"
     ]
    },
    {
     "data": {
      "text/plain": [
       "[2, 4, 111, 3, 6, 5, 37, 67, 57, 7]"
      ]
     },
     "execution_count": 12,
     "metadata": {},
     "output_type": "execute_result"
    }
   ],
   "source": [
    "trav_forward = nog.TraversalBreadthFirst( forward )\n",
    "trav_forward.start_from( 0, build_paths=True )\n",
    "list(trav_forward)"
   ]
  },
  {
   "cell_type": "code",
   "execution_count": 6,
   "id": "2fd2ddbf-b8e9-433f-a87d-0185a061efae",
   "metadata": {},
   "outputs": [
    {
     "data": {
      "image/svg+xml": [
       "<?xml version=\"1.0\" encoding=\"UTF-8\" standalone=\"no\"?>\n",
       "<!DOCTYPE svg PUBLIC \"-//W3C//DTD SVG 1.1//EN\"\n",
       " \"http://www.w3.org/Graphics/SVG/1.1/DTD/svg11.dtd\">\n",
       "<!-- Generated by graphviz version 8.1.0 (20230707.0739)\n",
       " -->\n",
       "<!-- Pages: 1 -->\n",
       "<svg width=\"244pt\" height=\"332pt\"\n",
       " viewBox=\"0.00 0.00 244.00 332.00\" xmlns=\"http://www.w3.org/2000/svg\" xmlns:xlink=\"http://www.w3.org/1999/xlink\">\n",
       "<g id=\"graph0\" class=\"graph\" transform=\"scale(1 1) rotate(0) translate(4 328)\">\n",
       "<polygon fill=\"white\" stroke=\"none\" points=\"-4,4 -4,-328 240,-328 240,4 -4,4\"/>\n",
       "<!-- 0 -->\n",
       "<g id=\"node1\" class=\"node\">\n",
       "<title>0</title>\n",
       "<ellipse fill=\"none\" stroke=\"black\" cx=\"55\" cy=\"-306\" rx=\"27\" ry=\"18\"/>\n",
       "<text text-anchor=\"middle\" x=\"55\" y=\"-300.57\" font-family=\"Times New Roman,serif\" font-size=\"14.00\">0</text>\n",
       "</g>\n",
       "<!-- 2 -->\n",
       "<g id=\"node2\" class=\"node\">\n",
       "<title>2</title>\n",
       "<ellipse fill=\"none\" stroke=\"black\" cx=\"55\" cy=\"-234\" rx=\"27\" ry=\"18\"/>\n",
       "<text text-anchor=\"middle\" x=\"55\" y=\"-228.57\" font-family=\"Times New Roman,serif\" font-size=\"14.00\">2</text>\n",
       "</g>\n",
       "<!-- 0&#45;&gt;2 -->\n",
       "<g id=\"edge1\" class=\"edge\">\n",
       "<title>0&#45;&gt;2</title>\n",
       "<path fill=\"none\" stroke=\"black\" d=\"M49.12,-288.05C48.31,-280.4 48.06,-271.16 48.39,-262.56\"/>\n",
       "<polygon fill=\"black\" stroke=\"black\" points=\"51.93,-263.01 49.14,-252.79 44.95,-262.52 51.93,-263.01\"/>\n",
       "</g>\n",
       "<!-- 4 -->\n",
       "<g id=\"node3\" class=\"node\">\n",
       "<title>4</title>\n",
       "<ellipse fill=\"none\" stroke=\"black\" cx=\"199\" cy=\"-234\" rx=\"27\" ry=\"18\"/>\n",
       "<text text-anchor=\"middle\" x=\"199\" y=\"-228.57\" font-family=\"Times New Roman,serif\" font-size=\"14.00\">4</text>\n",
       "</g>\n",
       "<!-- 0&#45;&gt;4 -->\n",
       "<g id=\"edge2\" class=\"edge\">\n",
       "<title>0&#45;&gt;4</title>\n",
       "<path fill=\"none\" stroke=\"black\" d=\"M76.56,-294.52C100.88,-282.7 140.62,-263.38 168.2,-249.97\"/>\n",
       "<polygon fill=\"black\" stroke=\"black\" points=\"169.3,-252.84 176.76,-245.32 166.24,-246.55 169.3,-252.84\"/>\n",
       "</g>\n",
       "<!-- 111 -->\n",
       "<g id=\"node4\" class=\"node\">\n",
       "<title>111</title>\n",
       "<ellipse fill=\"none\" stroke=\"black\" cx=\"127\" cy=\"-234\" rx=\"27\" ry=\"18\"/>\n",
       "<text text-anchor=\"middle\" x=\"127\" y=\"-228.57\" font-family=\"Times New Roman,serif\" font-size=\"14.00\">111</text>\n",
       "</g>\n",
       "<!-- 0&#45;&gt;111 -->\n",
       "<g id=\"edge3\" class=\"edge\">\n",
       "<title>0&#45;&gt;111</title>\n",
       "<path fill=\"none\" stroke=\"black\" d=\"M69.92,-290.5C79.86,-280.83 93.12,-267.94 104.35,-257.02\"/>\n",
       "<polygon fill=\"black\" stroke=\"black\" points=\"106.37,-259.97 111.1,-250.49 101.49,-254.95 106.37,-259.97\"/>\n",
       "</g>\n",
       "<!-- 2&#45;&gt;0 -->\n",
       "<g id=\"edge4\" class=\"edge\">\n",
       "<title>2&#45;&gt;0</title>\n",
       "<path fill=\"none\" stroke=\"black\" d=\"M60.86,-251.79C61.68,-259.42 61.93,-268.65 61.62,-277.27\"/>\n",
       "<polygon fill=\"black\" stroke=\"black\" points=\"58.07,-276.84 60.88,-287.05 65.06,-277.32 58.07,-276.84\"/>\n",
       "</g>\n",
       "<!-- 3 -->\n",
       "<g id=\"node5\" class=\"node\">\n",
       "<title>3</title>\n",
       "<ellipse fill=\"none\" stroke=\"black\" cx=\"36\" cy=\"-162\" rx=\"27\" ry=\"18\"/>\n",
       "<text text-anchor=\"middle\" x=\"36\" y=\"-156.57\" font-family=\"Times New Roman,serif\" font-size=\"14.00\">3</text>\n",
       "</g>\n",
       "<!-- 2&#45;&gt;3 -->\n",
       "<g id=\"edge5\" class=\"edge\">\n",
       "<title>2&#45;&gt;3</title>\n",
       "<path fill=\"none\" stroke=\"black\" d=\"M50.4,-216.05C48.3,-208.32 45.76,-198.96 43.4,-190.27\"/>\n",
       "<polygon fill=\"black\" stroke=\"black\" points=\"46.55,-189.52 40.56,-180.79 39.8,-191.36 46.55,-189.52\"/>\n",
       "</g>\n",
       "<!-- 6 -->\n",
       "<g id=\"node6\" class=\"node\">\n",
       "<title>6</title>\n",
       "<ellipse fill=\"none\" stroke=\"black\" cx=\"118\" cy=\"-162\" rx=\"27\" ry=\"18\"/>\n",
       "<text text-anchor=\"middle\" x=\"118\" y=\"-156.57\" font-family=\"Times New Roman,serif\" font-size=\"14.00\">6</text>\n",
       "</g>\n",
       "<!-- 2&#45;&gt;6 -->\n",
       "<g id=\"edge6\" class=\"edge\">\n",
       "<title>2&#45;&gt;6</title>\n",
       "<path fill=\"none\" stroke=\"black\" d=\"M68.36,-218.15C76.8,-208.78 87.87,-196.48 97.41,-185.88\"/>\n",
       "<polygon fill=\"black\" stroke=\"black\" points=\"99.57,-188.6 103.66,-178.82 94.37,-183.92 99.57,-188.6\"/>\n",
       "</g>\n",
       "<!-- 4&#45;&gt;6 -->\n",
       "<g id=\"edge8\" class=\"edge\">\n",
       "<title>4&#45;&gt;6</title>\n",
       "<path fill=\"none\" stroke=\"black\" d=\"M183,-219.17C171.35,-209.1 155.37,-195.29 142.17,-183.89\"/>\n",
       "<polygon fill=\"black\" stroke=\"black\" points=\"144.82,-180.69 134.97,-176.8 140.25,-185.99 144.82,-180.69\"/>\n",
       "</g>\n",
       "<!-- 5 -->\n",
       "<g id=\"node7\" class=\"node\">\n",
       "<title>5</title>\n",
       "<ellipse fill=\"none\" stroke=\"black\" cx=\"199\" cy=\"-162\" rx=\"27\" ry=\"18\"/>\n",
       "<text text-anchor=\"middle\" x=\"199\" y=\"-156.57\" font-family=\"Times New Roman,serif\" font-size=\"14.00\">5</text>\n",
       "</g>\n",
       "<!-- 4&#45;&gt;5 -->\n",
       "<g id=\"edge7\" class=\"edge\">\n",
       "<title>4&#45;&gt;5</title>\n",
       "<path fill=\"none\" stroke=\"black\" d=\"M199,-215.7C199,-208.24 199,-199.32 199,-190.97\"/>\n",
       "<polygon fill=\"black\" stroke=\"black\" points=\"202.5,-191.1 199,-181.1 195.5,-191.1 202.5,-191.1\"/>\n",
       "</g>\n",
       "<!-- 111&#45;&gt;3 -->\n",
       "<g id=\"edge9\" class=\"edge\">\n",
       "<title>111&#45;&gt;3</title>\n",
       "<path fill=\"none\" stroke=\"black\" d=\"M109.88,-219.83C96.37,-209.44 77.29,-194.76 61.91,-182.93\"/>\n",
       "<polygon fill=\"black\" stroke=\"black\" points=\"64.41,-179.67 54.35,-176.35 60.14,-185.22 64.41,-179.67\"/>\n",
       "</g>\n",
       "<!-- 111&#45;&gt;5 -->\n",
       "<g id=\"edge10\" class=\"edge\">\n",
       "<title>111&#45;&gt;5</title>\n",
       "<path fill=\"none\" stroke=\"black\" d=\"M141.92,-218.5C151.86,-208.83 165.12,-195.94 176.35,-185.02\"/>\n",
       "<polygon fill=\"black\" stroke=\"black\" points=\"178.37,-187.97 183.1,-178.49 173.49,-182.95 178.37,-187.97\"/>\n",
       "</g>\n",
       "<!-- 3&#45;&gt;0 -->\n",
       "<g id=\"edge11\" class=\"edge\">\n",
       "<title>3&#45;&gt;0</title>\n",
       "<path fill=\"none\" stroke=\"black\" d=\"M28.05,-179.67C20.53,-197.75 11.42,-227.34 19,-252 22.22,-262.46 28.28,-272.71 34.53,-281.37\"/>\n",
       "<polygon fill=\"black\" stroke=\"black\" points=\"32.37,-283.3 41.25,-289.07 37.9,-279.02 32.37,-283.3\"/>\n",
       "</g>\n",
       "<!-- 37 -->\n",
       "<g id=\"node8\" class=\"node\">\n",
       "<title>37</title>\n",
       "<ellipse fill=\"none\" stroke=\"black\" cx=\"27\" cy=\"-90\" rx=\"27\" ry=\"18\"/>\n",
       "<text text-anchor=\"middle\" x=\"27\" y=\"-84.58\" font-family=\"Times New Roman,serif\" font-size=\"14.00\">37</text>\n",
       "</g>\n",
       "<!-- 3&#45;&gt;37 -->\n",
       "<g id=\"edge12\" class=\"edge\">\n",
       "<title>3&#45;&gt;37</title>\n",
       "<path fill=\"none\" stroke=\"black\" d=\"M33.78,-143.7C32.82,-136.24 31.67,-127.32 30.6,-118.97\"/>\n",
       "<polygon fill=\"black\" stroke=\"black\" points=\"33.95,-118.58 29.2,-109.1 27,-119.47 33.95,-118.58\"/>\n",
       "</g>\n",
       "<!-- 67 -->\n",
       "<g id=\"node9\" class=\"node\">\n",
       "<title>67</title>\n",
       "<ellipse fill=\"none\" stroke=\"black\" cx=\"99\" cy=\"-90\" rx=\"27\" ry=\"18\"/>\n",
       "<text text-anchor=\"middle\" x=\"99\" y=\"-84.58\" font-family=\"Times New Roman,serif\" font-size=\"14.00\">67</text>\n",
       "</g>\n",
       "<!-- 6&#45;&gt;67 -->\n",
       "<g id=\"edge13\" class=\"edge\">\n",
       "<title>6&#45;&gt;67</title>\n",
       "<path fill=\"none\" stroke=\"black\" d=\"M113.4,-144.05C111.3,-136.32 108.76,-126.96 106.4,-118.27\"/>\n",
       "<polygon fill=\"black\" stroke=\"black\" points=\"109.55,-117.52 103.56,-108.79 102.8,-119.36 109.55,-117.52\"/>\n",
       "</g>\n",
       "<!-- 57 -->\n",
       "<g id=\"node10\" class=\"node\">\n",
       "<title>57</title>\n",
       "<ellipse fill=\"none\" stroke=\"black\" cx=\"209\" cy=\"-90\" rx=\"27\" ry=\"18\"/>\n",
       "<text text-anchor=\"middle\" x=\"209\" y=\"-84.58\" font-family=\"Times New Roman,serif\" font-size=\"14.00\">57</text>\n",
       "</g>\n",
       "<!-- 5&#45;&gt;57 -->\n",
       "<g id=\"edge14\" class=\"edge\">\n",
       "<title>5&#45;&gt;57</title>\n",
       "<path fill=\"none\" stroke=\"black\" d=\"M201.47,-143.7C202.54,-136.24 203.81,-127.32 205,-118.97\"/>\n",
       "<polygon fill=\"black\" stroke=\"black\" points=\"208.61,-119.5 206.56,-109.1 201.68,-118.51 208.61,-119.5\"/>\n",
       "</g>\n",
       "<!-- 7 -->\n",
       "<g id=\"node11\" class=\"node\">\n",
       "<title>7</title>\n",
       "<ellipse fill=\"none\" stroke=\"black\" cx=\"126\" cy=\"-18\" rx=\"27\" ry=\"18\"/>\n",
       "<text text-anchor=\"middle\" x=\"126\" y=\"-12.57\" font-family=\"Times New Roman,serif\" font-size=\"14.00\">7</text>\n",
       "</g>\n",
       "<!-- 37&#45;&gt;7 -->\n",
       "<g id=\"edge15\" class=\"edge\">\n",
       "<title>37&#45;&gt;7</title>\n",
       "<path fill=\"none\" stroke=\"black\" d=\"M45.16,-76.16C60.23,-65.5 81.89,-50.19 98.99,-38.1\"/>\n",
       "<polygon fill=\"black\" stroke=\"black\" points=\"100.81,-40.39 106.96,-31.76 96.77,-34.67 100.81,-40.39\"/>\n",
       "</g>\n",
       "<!-- 67&#45;&gt;7 -->\n",
       "<g id=\"edge16\" class=\"edge\">\n",
       "<title>67&#45;&gt;7</title>\n",
       "<path fill=\"none\" stroke=\"black\" d=\"M105.54,-72.05C108.55,-64.23 112.21,-54.75 115.59,-45.98\"/>\n",
       "<polygon fill=\"black\" stroke=\"black\" points=\"119.19,-47.38 119.52,-36.79 112.66,-44.86 119.19,-47.38\"/>\n",
       "</g>\n",
       "<!-- 57&#45;&gt;7 -->\n",
       "<g id=\"edge17\" class=\"edge\">\n",
       "<title>57&#45;&gt;7</title>\n",
       "<path fill=\"none\" stroke=\"black\" d=\"M192.6,-75.17C180.67,-65.1 164.29,-51.29 150.77,-39.89\"/>\n",
       "<polygon fill=\"black\" stroke=\"black\" points=\"153.26,-36.57 143.36,-32.8 148.75,-41.92 153.26,-36.57\"/>\n",
       "</g>\n",
       "<!-- 7&#45;&gt;6 -->\n",
       "<g id=\"edge18\" class=\"edge\">\n",
       "<title>7&#45;&gt;6</title>\n",
       "<path fill=\"none\" stroke=\"black\" d=\"M130.32,-36.13C134.25,-54.11 138.89,-83.14 135,-108 133.65,-116.63 131.13,-125.77 128.44,-133.99\"/>\n",
       "<polygon fill=\"black\" stroke=\"black\" points=\"124.89,-132.55 124.89,-143.14 131.5,-134.86 124.89,-132.55\"/>\n",
       "</g>\n",
       "</g>\n",
       "</svg>\n"
      ],
      "text/plain": [
       "<graphviz.graphs.Digraph at 0x6b16cd0>"
      ]
     },
     "execution_count": 6,
     "metadata": {},
     "output_type": "execute_result"
    }
   ],
   "source": [
    "forward.dot              # pylint: disable=pointless-statement"
   ]
  },
  {
   "cell_type": "code",
   "execution_count": 7,
   "id": "45e93166-a556-4ddb-9e98-3017b8ca6c2c",
   "metadata": {},
   "outputs": [
    {
     "data": {
      "text/plain": [
       "{0: 0, 2: 0, 4: 0, 111: 0, 3: 2, 6: 2, 5: 4, 37: 3, 67: 6, 57: 5, 7: 37}"
      ]
     },
     "execution_count": 7,
     "metadata": {},
     "output_type": "execute_result"
    }
   ],
   "source": [
    "#(trav_forward.paths._predecessor_collection)"
   ]
  },
  {
   "cell_type": "code",
   "execution_count": 8,
   "id": "2e2a24f0-852e-4fcf-bfa2-9d3600d67d71",
   "metadata": {},
   "outputs": [
    {
     "data": {
      "text/plain": [
       "['__abstractmethods__',\n",
       " '__annotations__',\n",
       " '__class__',\n",
       " '__class_getitem__',\n",
       " '__contains__',\n",
       " '__delattr__',\n",
       " '__dict__',\n",
       " '__dir__',\n",
       " '__doc__',\n",
       " '__eq__',\n",
       " '__format__',\n",
       " '__ge__',\n",
       " '__getattribute__',\n",
       " '__getitem__',\n",
       " '__getstate__',\n",
       " '__gt__',\n",
       " '__hash__',\n",
       " '__init__',\n",
       " '__init_subclass__',\n",
       " '__le__',\n",
       " '__lt__',\n",
       " '__module__',\n",
       " '__ne__',\n",
       " '__new__',\n",
       " '__orig_bases__',\n",
       " '__orig_class__',\n",
       " '__parameters__',\n",
       " '__reduce__',\n",
       " '__reduce_ex__',\n",
       " '__repr__',\n",
       " '__setattr__',\n",
       " '__sizeof__',\n",
       " '__slots__',\n",
       " '__str__',\n",
       " '__subclasshook__',\n",
       " '__weakref__',\n",
       " '_abc_impl',\n",
       " '_check_vertex',\n",
       " '_is_protocol',\n",
       " '_iter_raw_edges_to_start',\n",
       " '_predecessor',\n",
       " '_predecessor_collection',\n",
       " '_predecessor_wrapper',\n",
       " '_vertex_to_id',\n",
       " 'append_edge',\n",
       " 'iter_edges_from_start',\n",
       " 'iter_edges_to_start',\n",
       " 'iter_labeled_edges_from_start',\n",
       " 'iter_labeled_edges_to_start',\n",
       " 'iter_vertices_from_start',\n",
       " 'iter_vertices_to_start']"
      ]
     },
     "execution_count": 8,
     "metadata": {},
     "output_type": "execute_result"
    }
   ],
   "source": [
    "#dir(trav_forward.paths)"
   ]
  },
  {
   "cell_type": "code",
   "execution_count": null,
   "id": "61e8b62a-67bc-446b-ace5-cfe9ce6b19a7",
   "metadata": {},
   "outputs": [],
   "source": []
  }
 ],
 "metadata": {
  "kernelspec": {
   "display_name": "Python 3 (ipykernel)",
   "language": "python",
   "name": "python3"
  },
  "language_info": {
   "codemirror_mode": {
    "name": "ipython",
    "version": 3
   },
   "file_extension": ".py",
   "mimetype": "text/x-python",
   "name": "python",
   "nbconvert_exporter": "python",
   "pygments_lexer": "ipython3",
   "version": "3.11.4"
  }
 },
 "nbformat": 4,
 "nbformat_minor": 5
}
