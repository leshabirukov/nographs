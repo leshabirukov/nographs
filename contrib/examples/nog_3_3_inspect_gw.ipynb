{
 "cells": [
  {
   "cell_type": "code",
   "execution_count": null,
   "id": "2d84645b-8234-4105-8c8a-4e5748a59809",
   "metadata": {},
   "outputs": [],
   "source": [
    "\"\"\"Iteration over outgoing edges, instead of nodes, see\n",
    "https://nographs.readthedocs.io/en/latest/\n",
    "graphs_and_adaptation.html#graphs-with-attributes\"\"\"\n",
    "from functools import wraps\n",
    "from decorator import decorator\n",
    "import nographs as nog\n",
    "from graphviz import Digraph"
   ]
  },
  {
   "cell_type": "code",
   "execution_count": null,
   "id": "1c5e5a85-45c2-46a6-9eab-950100e597e7",
   "metadata": {},
   "outputs": [],
   "source": [
    "node_style ={\"style\": 'filled',            \"shape\": 'box',\n",
    "             \"align\": 'left',              \"fontsize\": '12',\n",
    "             \"ranksep\":'0.01',             \"height\":'0.02',   \"width\":'0.04',}\n",
    "gr_style = {\"linelength\": '16', \"rankdir\": 'LR'}#\"landscape\":'True',\n",
    "\n",
    "def adapter_graphviz( wrapped ):\n",
    "    \"\"\"translation to GraphViz visitor\"\"\"\n",
    "    dot = Digraph( node_attr = node_style, graph_attr = gr_style, )\n",
    "    @wraps( wrapped )\n",
    "    def wrapper_bg( _edge, _trav ):\n",
    "        dot.node( str(_edge), str(_edge) )\n",
    "        for result in wrapped(_edge, _trav):\n",
    "            edge = dot.edge( str(_edge), str(result[0]), str(result[1]), )\n",
    "            yield result\n",
    "    wrapper_bg.dot = dot\n",
    "    return wrapper_bg"
   ]
  },
  {
   "cell_type": "code",
   "execution_count": null,
   "id": "53ff5199-103c-4a2b-a54d-ddeb7bedcad6",
   "metadata": {},
   "outputs": [],
   "source": [
    "@decorator\n",
    "def filter_boring( wrapped, _edge, _trav ):\n",
    "    \"\"\"Decorator for filtering, lets shrink graph a bit\"\"\"\n",
    "    stop_words = {'__dir__', '__str__','__repr__','__doc__','__hash__'}\n",
    "    yield from filter( lambda e:e[1] not in stop_words, wrapped( _edge, _trav ) )"
   ]
  },
  {
   "cell_type": "code",
   "execution_count": null,
   "id": "b9de95d1-0e09-43fc-b905-1508de61bdc7",
   "metadata": {},
   "outputs": [],
   "source": [
    "@adapter_graphviz\n",
    "@filter_boring\n",
    "def all_attr(var, _):\n",
    "    for attr_name, _ in zip(dir(var), range(50)):\n",
    "        try:\n",
    "            attr = getattr(var, attr_name)\n",
    "            if hasattr( attr, \"__call__\"):\n",
    "                # try:\n",
    "                    attr = attr()\n",
    "                # except Exception as ex:\n",
    "                #     attr = str(ex)[:50]\n",
    "            if attr is not None: #hasattr( attr, \"__hash__\"):\n",
    "                yield (str(attr), str(attr_name))\n",
    "        except:\n",
    "            continue\n",
    "\n",
    "trav_forward = nog.TraversalBreadthFirst(next_labeled_edges=all_attr)\n",
    "trav_forward.start_from( 10, build_paths=True )\n",
    "for _, _ in zip(trav_forward, range(50)):\n",
    "    pass"
   ]
  },
  {
   "cell_type": "code",
   "execution_count": null,
   "id": "97790221-e7e4-4222-9309-430e30022786",
   "metadata": {},
   "outputs": [],
   "source": [
    "all_attr.dot              # pylint: disable=pointless-statement"
   ]
  },
  {
   "cell_type": "code",
   "execution_count": null,
   "id": "0c51cd0b-a942-481b-968f-5fd5aa587907",
   "metadata": {},
   "outputs": [],
   "source": [
    "all_attr.dot.attr( layout=\"neato\")\n",
    "all_attr.dot              # pylint: disable=pointless-statement"
   ]
  },
  {
   "cell_type": "code",
   "execution_count": null,
   "id": "9610694d-46b5-49a4-ac06-d091f2b2bc92",
   "metadata": {},
   "outputs": [],
   "source": [
    "('10',).__getnewargs__()"
   ]
  },
  {
   "cell_type": "code",
   "execution_count": null,
   "id": "17d570a2-c11f-4b94-afe3-4144cd16da00",
   "metadata": {},
   "outputs": [],
   "source": []
  }
 ],
 "metadata": {
  "kernelspec": {
   "display_name": "Python 3 (ipykernel)",
   "language": "python",
   "name": "python3"
  },
  "language_info": {
   "codemirror_mode": {
    "name": "ipython",
    "version": 3
   },
   "file_extension": ".py",
   "mimetype": "text/x-python",
   "name": "python",
   "nbconvert_exporter": "python",
   "pygments_lexer": "ipython3",
   "version": "3.9.6"
  }
 },
 "nbformat": 4,
 "nbformat_minor": 5
}
