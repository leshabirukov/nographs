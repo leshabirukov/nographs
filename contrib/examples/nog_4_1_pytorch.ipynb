{
 "cells": [
  {
   "cell_type": "code",
   "execution_count": 1,
   "id": "0c53c30d-fd6d-4ab8-ad23-86c8f29f25b0",
   "metadata": {},
   "outputs": [],
   "source": [
    "\"\"\"Introduction to pytorch computation graph\"\"\"\n",
    "from functools import wraps\n",
    "from decorator import decorator\n",
    "\n",
    "import nographs as nog\n",
    "from graphviz import Digraph\n",
    "\n",
    "import torch\n",
    "# import torch.nn as nn\n",
    "# import torch.nn.functional as F\n",
    "from torchvision import models"
   ]
  },
  {
   "cell_type": "code",
   "execution_count": 2,
   "id": "7fc230f3-2465-4bf6-8288-aef8631ffcce",
   "metadata": {},
   "outputs": [],
   "source": [
    "nn_model = models.convnext_tiny()\n",
    "#nn_model"
   ]
  },
  {
   "cell_type": "code",
   "execution_count": 3,
   "id": "08dda6db-80d7-46f8-b792-de503bb84fed",
   "metadata": {},
   "outputs": [],
   "source": [
    "node_style ={\"style\": 'filled',            \"shape\": 'box',\n",
    "             \"align\": 'left',              \"fontsize\": '12',\n",
    "             \"ranksep\":'0.01',             \"height\":'0.02',   \"width\":'0.04',}\n",
    "gr_style = {\"linelength\": '16', \"rankdir\": 'LR'}#\"landscape\":'True',\n",
    "\n",
    "def adapter_graphviz( wrapped ):\n",
    "    \"\"\"translation to GraphViz visitor\"\"\"\n",
    "    def node_id( item ):\n",
    "        return str(hash(item))\n",
    "    dot = Digraph( node_attr = node_style, graph_attr = gr_style, )\n",
    "    @wraps( wrapped )\n",
    "    def wrapper_bg( _item, _trav ):\n",
    "        dot.node( node_id(_item), str(_item)[:20] )\n",
    "        for result in wrapped(_item, _trav):\n",
    "            dot.edge( node_id(_item), node_id(result[0]), str(result[1])[:20], )\n",
    "            yield result\n",
    "    wrapper_bg.dot = dot\n",
    "    return wrapper_bg"
   ]
  },
  {
   "cell_type": "markdown",
   "id": "3092a079-20b5-4e5f-a4d6-4c776d51754b",
   "metadata": {},
   "source": [
    "#### The translation stage. For each node performing list of transformation, repeatedly, while we can"
   ]
  },
  {
   "cell_type": "code",
   "execution_count": 11,
   "id": "96537fc3-ddb8-4762-a648-79a955a60536",
   "metadata": {},
   "outputs": [],
   "source": [
    "# def process_stream( nodes, process,  ):\n",
    "#     for node, is_already_changed in nodes:\n",
    "#         results, hot = process( node )\n",
    "#         if hot:\n",
    "#             yield from ( (r,True) for r in results )\n",
    "#         else:\n",
    "#             yield node, is_already_changed\n",
    "\n",
    "stop_words = {'__dir__', '__str__','__repr__','__doc__','__hash__'}\n",
    "stop_words = stop_words | {'__delattr__', '__del__',}\n",
    "\n",
    "def filter_boring( node ):\n",
    "    \"\"\"Decorator for filtering, lets shrink graph a bit\"\"\"\n",
    "    print(f\"111111111111111{node=}\")\n",
    "    if node not in stop_words:\n",
    "        yield node, False\n",
    "\n",
    "def expand_iterables( item ):\n",
    "    \"\"\"Decorator for sequenses substitution\"\"\"\n",
    "    if hasattr( item, '__iter__' ):\n",
    "        yield from ( (i,True) for i in item )\n",
    "    else:\n",
    "        yield node, False\n",
    "\n",
    "def expand_call( item ):\n",
    "    \"\"\"Decorator for following call\"\"\"\n",
    "    if hasattr( item, '__call__' ):\n",
    "        yield item(), True\n",
    "    else:\n",
    "        yield item, False\n",
    "\n",
    "# def do_stage( nodes, stage_transforms ):\n",
    "#     print(f\"33333\")\n",
    "#     # annotate node, was it changed (and need to recheck)\n",
    "#     nodes = ( (n,False) for n in nodes )\n",
    "#     repeat_nodes = []\n",
    "#     for node, changed in nodes:\n",
    "#         if changed:\n",
    "#             repeat_nodes.append( (node,False) )\n",
    "#         else:\n",
    "#             yield node\n",
    "    #nodes = repeat_nodes\n",
    "\n",
    "def do_stage( nodes, stage_transforms ):\n",
    "    print(f\"33333\")\n",
    "    # annotate node, was it changed (and need to recheck)\n",
    "    nodes = ( (n,False) for n in nodes )\n",
    "    # while nodes needed to process\n",
    "    while len(list(nodes)) >0:\n",
    "        # perform sequence once\n",
    "        for transform in stage_transforms:\n",
    "            print(f\"22222222{nodes=}\")\n",
    "            nodes = transform( nodes )\n",
    "            print(f\"66666666{nodes=}\")\n",
    "        # sort out not changed and repeat\n",
    "        repeat_nodes = []\n",
    "        for node, changed in nodes:\n",
    "            if changed:\n",
    "                repeat_nodes.append( (node,False) )\n",
    "            else:\n",
    "                yield node\n",
    "        nodes = repeat_nodes\n",
    "\n",
    "# def filter_boring( stream ):\n",
    "#     \"\"\"Decorator for filtering, lets shrink graph a bit\"\"\"\n",
    "#     stop_words = {'__dir__', '__str__','__repr__','__doc__','__hash__'}\n",
    "#     yield from filter( lambda e:e[1] not in stop_words, stream )"
   ]
  },
  {
   "cell_type": "code",
   "execution_count": 12,
   "id": "a23d8cd4-d904-454c-84c7-02575d2fae90",
   "metadata": {},
   "outputs": [],
   "source": [
    "def trace_show(x):\n",
    "    print( \"+++++++++\" )\n",
    "    return x\n",
    "\n",
    "@decorator\n",
    "def stage_1( wrapped, item, _trav ):\n",
    "    print(f\"444444 item\")\n",
    "    yield from do_stage( wrapped( trace_show(item), _trav ), \n",
    "                        [filter_boring, expand_iterables, expand_call] )\n",
    "\n",
    "#     \"\"\"Decorator for sequenses substitution\"\"\"\n",
    "#     # print(f\"{hasattr( item, '__iter__' )} {item=}\")\n",
    "#     if hasattr( item, '__iter__' ):\n",
    "#         for sub in item:\n",
    "#             yield from expand_iterables( wrapped, sub, _trav )\n",
    "#     else:\n",
    "#         yield from wrapped( item, _trav )"
   ]
  },
  {
   "cell_type": "code",
   "execution_count": 13,
   "id": "dc782b95-9893-42b9-904a-417ac8ba39de",
   "metadata": {},
   "outputs": [
    {
     "name": "stdout",
     "output_type": "stream",
     "text": [
      "444444 item\n",
      "+++++++++\n",
      "33333\n",
      "T_destination\n",
      "__annotations__\n",
      "__call__\n",
      "22222222nodes=<generator object do_stage.<locals>.<genexpr> at 0x0000013F5E1964A0>\n",
      "66666666nodes=<generator object filter_boring at 0x0000013F5E196F20>\n",
      "22222222nodes=<generator object filter_boring at 0x0000013F5E196F20>\n",
      "66666666nodes=<generator object expand_iterables at 0x0000013F5E196660>\n",
      "22222222nodes=<generator object expand_iterables at 0x0000013F5E196660>\n",
      "66666666nodes=<generator object expand_call at 0x0000013F5E196E40>\n"
     ]
    },
    {
     "ename": "TypeError",
     "evalue": "'generator' object is not subscriptable",
     "output_type": "error",
     "traceback": [
      "\u001b[1;31m---------------------------------------------------------------------------\u001b[0m",
      "\u001b[1;31mTypeError\u001b[0m                                 Traceback (most recent call last)",
      "\u001b[1;32m~\\AppData\\Local\\Temp\\ipykernel_13384\\1296335831.py\u001b[0m in \u001b[0;36m<module>\u001b[1;34m\u001b[0m\n\u001b[0;32m     17\u001b[0m \u001b[0mtrav_forward\u001b[0m\u001b[1;33m.\u001b[0m\u001b[0mstart_from\u001b[0m\u001b[1;33m(\u001b[0m \u001b[0mstart_vertices\u001b[0m\u001b[1;33m=\u001b[0m\u001b[0mlist\u001b[0m\u001b[1;33m(\u001b[0m\u001b[0mnn_model\u001b[0m\u001b[1;33m.\u001b[0m\u001b[0mchildren\u001b[0m\u001b[1;33m(\u001b[0m\u001b[1;33m)\u001b[0m\u001b[1;33m)\u001b[0m\u001b[1;33m,\u001b[0m \u001b[0mbuild_paths\u001b[0m\u001b[1;33m=\u001b[0m\u001b[1;32mTrue\u001b[0m \u001b[1;33m)\u001b[0m\u001b[1;33m\u001b[0m\u001b[1;33m\u001b[0m\u001b[0m\n\u001b[0;32m     18\u001b[0m \u001b[1;31m#trav_forward.start_from( nn_model.children(), build_paths=True )\u001b[0m\u001b[1;33m\u001b[0m\u001b[1;33m\u001b[0m\u001b[1;33m\u001b[0m\u001b[0m\n\u001b[1;32m---> 19\u001b[1;33m \u001b[1;32mfor\u001b[0m \u001b[0m_\u001b[0m\u001b[1;33m,\u001b[0m \u001b[0m_\u001b[0m \u001b[1;32min\u001b[0m \u001b[0mzip\u001b[0m\u001b[1;33m(\u001b[0m\u001b[0mtrav_forward\u001b[0m\u001b[1;33m,\u001b[0m \u001b[0mrange\u001b[0m\u001b[1;33m(\u001b[0m\u001b[1;36m10\u001b[0m\u001b[1;33m)\u001b[0m\u001b[1;33m)\u001b[0m\u001b[1;33m:\u001b[0m\u001b[1;33m\u001b[0m\u001b[1;33m\u001b[0m\u001b[0m\n\u001b[0m\u001b[0;32m     20\u001b[0m     \u001b[1;32mpass\u001b[0m\u001b[1;33m\u001b[0m\u001b[1;33m\u001b[0m\u001b[0m\n",
      "\u001b[1;32mC:\\Python39\\lib\\site-packages\\nographs\\_traversals.py\u001b[0m in \u001b[0;36m_traverse\u001b[1;34m(self)\u001b[0m\n\u001b[0;32m    723\u001b[0m                     \u001b[1;32mraise\u001b[0m \u001b[0mRuntimeError\u001b[0m\u001b[1;33m(\u001b[0m\u001b[1;34m\"Number of visited vertices reached limit\"\u001b[0m\u001b[1;33m)\u001b[0m\u001b[1;33m\u001b[0m\u001b[1;33m\u001b[0m\u001b[0m\n\u001b[0;32m    724\u001b[0m \u001b[1;33m\u001b[0m\u001b[0m\n\u001b[1;32m--> 725\u001b[1;33m                 \u001b[1;32mfor\u001b[0m \u001b[0medge_or_vertex\u001b[0m \u001b[1;32min\u001b[0m \u001b[0mnext_edge_or_vertex\u001b[0m\u001b[1;33m(\u001b[0m\u001b[0mvertex\u001b[0m\u001b[1;33m,\u001b[0m \u001b[0mprev_traversal\u001b[0m\u001b[1;33m)\u001b[0m\u001b[1;33m:\u001b[0m\u001b[1;33m\u001b[0m\u001b[1;33m\u001b[0m\u001b[0m\n\u001b[0m\u001b[0;32m    726\u001b[0m                     \u001b[0mneighbor\u001b[0m \u001b[1;33m=\u001b[0m \u001b[0medge_or_vertex\u001b[0m\u001b[1;33m[\u001b[0m\u001b[1;36m0\u001b[0m\u001b[1;33m]\u001b[0m \u001b[1;32mif\u001b[0m \u001b[0medges_with_data\u001b[0m \u001b[1;32melse\u001b[0m \u001b[0medge_or_vertex\u001b[0m\u001b[1;33m\u001b[0m\u001b[1;33m\u001b[0m\u001b[0m\n\u001b[0;32m    727\u001b[0m \u001b[1;33m\u001b[0m\u001b[0m\n",
      "\u001b[1;32m~\\AppData\\Local\\Temp\\ipykernel_13384\\3032502336.py\u001b[0m in \u001b[0;36mwrapper_bg\u001b[1;34m(_item, _trav)\u001b[0m\n\u001b[0;32m     13\u001b[0m         \u001b[0mdot\u001b[0m\u001b[1;33m.\u001b[0m\u001b[0mnode\u001b[0m\u001b[1;33m(\u001b[0m \u001b[0mnode_id\u001b[0m\u001b[1;33m(\u001b[0m\u001b[0m_item\u001b[0m\u001b[1;33m)\u001b[0m\u001b[1;33m,\u001b[0m \u001b[0mstr\u001b[0m\u001b[1;33m(\u001b[0m\u001b[0m_item\u001b[0m\u001b[1;33m)\u001b[0m\u001b[1;33m[\u001b[0m\u001b[1;33m:\u001b[0m\u001b[1;36m20\u001b[0m\u001b[1;33m]\u001b[0m \u001b[1;33m)\u001b[0m\u001b[1;33m\u001b[0m\u001b[1;33m\u001b[0m\u001b[0m\n\u001b[0;32m     14\u001b[0m         \u001b[1;32mfor\u001b[0m \u001b[0mresult\u001b[0m \u001b[1;32min\u001b[0m \u001b[0mwrapped\u001b[0m\u001b[1;33m(\u001b[0m\u001b[0m_item\u001b[0m\u001b[1;33m,\u001b[0m \u001b[0m_trav\u001b[0m\u001b[1;33m)\u001b[0m\u001b[1;33m:\u001b[0m\u001b[1;33m\u001b[0m\u001b[1;33m\u001b[0m\u001b[0m\n\u001b[1;32m---> 15\u001b[1;33m             \u001b[0mdot\u001b[0m\u001b[1;33m.\u001b[0m\u001b[0medge\u001b[0m\u001b[1;33m(\u001b[0m \u001b[0mnode_id\u001b[0m\u001b[1;33m(\u001b[0m\u001b[0m_item\u001b[0m\u001b[1;33m)\u001b[0m\u001b[1;33m,\u001b[0m \u001b[0mnode_id\u001b[0m\u001b[1;33m(\u001b[0m\u001b[0mresult\u001b[0m\u001b[1;33m[\u001b[0m\u001b[1;36m0\u001b[0m\u001b[1;33m]\u001b[0m\u001b[1;33m)\u001b[0m\u001b[1;33m,\u001b[0m \u001b[0mstr\u001b[0m\u001b[1;33m(\u001b[0m\u001b[0mresult\u001b[0m\u001b[1;33m[\u001b[0m\u001b[1;36m1\u001b[0m\u001b[1;33m]\u001b[0m\u001b[1;33m)\u001b[0m\u001b[1;33m[\u001b[0m\u001b[1;33m:\u001b[0m\u001b[1;36m20\u001b[0m\u001b[1;33m]\u001b[0m\u001b[1;33m,\u001b[0m \u001b[1;33m)\u001b[0m\u001b[1;33m\u001b[0m\u001b[1;33m\u001b[0m\u001b[0m\n\u001b[0m\u001b[0;32m     16\u001b[0m             \u001b[1;32myield\u001b[0m \u001b[0mresult\u001b[0m\u001b[1;33m\u001b[0m\u001b[1;33m\u001b[0m\u001b[0m\n\u001b[0;32m     17\u001b[0m     \u001b[0mwrapper_bg\u001b[0m\u001b[1;33m.\u001b[0m\u001b[0mdot\u001b[0m \u001b[1;33m=\u001b[0m \u001b[0mdot\u001b[0m\u001b[1;33m\u001b[0m\u001b[1;33m\u001b[0m\u001b[0m\n",
      "\u001b[1;31mTypeError\u001b[0m: 'generator' object is not subscriptable"
     ]
    }
   ],
   "source": [
    "@adapter_graphviz\n",
    "@stage_1\n",
    "def all_attr(var, _):\n",
    "    for attr_name, _ in zip(dir(var), range(3)):\n",
    "        print(attr_name)\n",
    "        attr = getattr(var, attr_name)\n",
    "        if attr is not None: #hasattr( attr, \"__hash__\"):\n",
    "            #print((str(attr), str(attr_name)), type(attr))\n",
    "            yield (str(attr), str(attr_name))\n",
    "        try:\n",
    "            pass\n",
    "        except:\n",
    "            print(\"$$$trouble\")\n",
    "            continue\n",
    "\n",
    "trav_forward = nog.TraversalBreadthFirst(next_labeled_edges=all_attr)\n",
    "trav_forward.start_from( start_vertices=list(nn_model.children()), build_paths=True )\n",
    "#trav_forward.start_from( nn_model.children(), build_paths=True )\n",
    "for _, _ in zip(trav_forward, range(10)):\n",
    "    pass"
   ]
  },
  {
   "cell_type": "code",
   "execution_count": null,
   "id": "aefda7c9-33d1-464d-a35b-fc053ee2de40",
   "metadata": {},
   "outputs": [],
   "source": [
    "print(all_attr.dot.source)              # pylint: disable=pointless-statement\n",
    "all_attr.dot"
   ]
  },
  {
   "cell_type": "code",
   "execution_count": null,
   "id": "070ab008-a8b8-420f-832d-0d556dcbc837",
   "metadata": {},
   "outputs": [],
   "source": [
    "dir(nn_model)\n",
    "type(nn_model)\n",
    "type(nn_model).__bases__"
   ]
  },
  {
   "cell_type": "code",
   "execution_count": null,
   "id": "37d36ccc-18c0-4e42-b3bd-9710281983e4",
   "metadata": {},
   "outputs": [],
   "source": [
    "#list(nn_model.children())"
   ]
  },
  {
   "cell_type": "code",
   "execution_count": null,
   "id": "4be799dc-7527-4e1e-97ac-9de3bf4f81ec",
   "metadata": {},
   "outputs": [],
   "source": [
    "issubclass(type(nn_model), torch.nn.modules.module.Module)"
   ]
  },
  {
   "cell_type": "code",
   "execution_count": null,
   "id": "cbbf3ae5-16fa-4e98-95af-c9b20a963eaa",
   "metadata": {},
   "outputs": [],
   "source": [
    "#dir(nn_model)"
   ]
  },
  {
   "cell_type": "code",
   "execution_count": null,
   "id": "46fd41cc-4a29-42ff-aedf-ffda02a36c42",
   "metadata": {},
   "outputs": [],
   "source": []
  }
 ],
 "metadata": {
  "kernelspec": {
   "display_name": "Python 3 (ipykernel)",
   "language": "python",
   "name": "python3"
  },
  "language_info": {
   "codemirror_mode": {
    "name": "ipython",
    "version": 3
   },
   "file_extension": ".py",
   "mimetype": "text/x-python",
   "name": "python",
   "nbconvert_exporter": "python",
   "pygments_lexer": "ipython3",
   "version": "3.9.6"
  }
 },
 "nbformat": 4,
 "nbformat_minor": 5
}
