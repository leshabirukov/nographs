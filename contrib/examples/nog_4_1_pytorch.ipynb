{
 "cells": [
  {
   "cell_type": "code",
   "execution_count": null,
   "id": "0c53c30d-fd6d-4ab8-ad23-86c8f29f25b0",
   "metadata": {},
   "outputs": [],
   "source": [
    "\"\"\"Introduction to pytorch computation graph\"\"\"\n",
    "from functools import wraps\n",
    "from decorator import decorator\n",
    "from collections.abc import Iterable, Callable\n",
    "\n",
    "import nographs as nog\n",
    "from graphviz import Digraph\n",
    "\n",
    "import torch\n",
    "# import torch.nn as nn\n",
    "# import torch.nn.functional as F\n",
    "from torchvision import models"
   ]
  },
  {
   "cell_type": "code",
   "execution_count": null,
   "id": "7fc230f3-2465-4bf6-8288-aef8631ffcce",
   "metadata": {},
   "outputs": [],
   "source": [
    "nn_model = models.convnext_tiny()\n",
    "#nn_model"
   ]
  },
  {
   "cell_type": "code",
   "execution_count": null,
   "id": "f13cb9e3-9c04-451d-913f-75c9864143ad",
   "metadata": {},
   "outputs": [],
   "source": [
    "def inge(x):\n",
    "    \"\"\"infinite range\"\"\"\n",
    "    for i in range(1000):\n",
    "        yield i\n",
    "    throw"
   ]
  },
  {
   "cell_type": "code",
   "execution_count": null,
   "id": "08dda6db-80d7-46f8-b792-de503bb84fed",
   "metadata": {},
   "outputs": [],
   "source": [
    "node_style ={\"style\": 'filled',            \"shape\": 'box',\n",
    "             \"align\": 'left',              \"fontsize\": '12',\n",
    "             \"ranksep\":'0.01',             \"height\":'0.02',   \"width\":'0.04',}\n",
    "gr_style = {\"linelength\": '16', \"rankdir\": 'LR'}#\"landscape\":'True',\n",
    "\n",
    "def adapter_graphviz( wrapped ):\n",
    "    \"\"\"translation to GraphViz visitor\"\"\"\n",
    "    def node_id( item ):\n",
    "        return str(hash(item))\n",
    "    dot = Digraph( node_attr = node_style, graph_attr = gr_style, )\n",
    "    @wraps( wrapped )\n",
    "    def wrapper_bg( _item, _trav ):\n",
    "        dot.node( node_id(_item), f\"{str(type(_item))[:20]}\\n{str(_item)[:20]}\" )\n",
    "        for result in wrapped(_item, _trav):\n",
    "            dot.edge( node_id(_item), node_id(result[0]), str(result[1])[:20], )\n",
    "            yield result\n",
    "    wrapper_bg.dot = dot\n",
    "    return wrapper_bg"
   ]
  },
  {
   "cell_type": "markdown",
   "id": "3092a079-20b5-4e5f-a4d6-4c776d51754b",
   "metadata": {},
   "source": [
    "#### The translation stage. For each node performing list of transformation, repeatedly, while we can"
   ]
  },
  {
   "cell_type": "code",
   "execution_count": null,
   "id": "96537fc3-ddb8-4762-a648-79a955a60536",
   "metadata": {},
   "outputs": [],
   "source": [
    "stop_types = {str, torch.Tensor, int, bool, }\n",
    "\n",
    "stop_words = set(dir( object() )) | {'_is_full_backward_hook','__module__',\n",
    "                                    '__covariant__','__contravariant__',\n",
    "                                    'training','output_size','zero_grad',}\n",
    "\n",
    "def filter_boring( node ):\n",
    "    \"\"\"Decorator for filtering, lets shrink graph a bit\"\"\"\n",
    "    # print(f\"1111{str(node[1])[:100]}--11--{str(type(node[0]))[:100]}<111>\")\n",
    "    if node[1] not in stop_words and type(node[0]) not in stop_types:\n",
    "        yield node, False\n",
    "\n",
    "def expand_iterables( item ):\n",
    "    \"\"\"Decorator for sequenses substitution\"\"\"\n",
    "    # print(f\"222222{str(item)[:100]}\")\n",
    "    if isinstance( item[0], dict):\n",
    "        pass\n",
    "        # for i,n in zip(item[0].items(),inge(200)):\n",
    "        #     yield (i[1], f\"dict[{i[0]}]\"),True\n",
    "    elif isinstance( item[0], Iterable) and type(item[0]) != str:\n",
    "        for i,n in zip(item[0],inge(20)):\n",
    "            yield (i,f\"[{n}]\"),True\n",
    "    else:\n",
    "        yield item, False\n",
    "\n",
    "def expand_call( item ):\n",
    "    \"\"\"Decorator for following call\"\"\"\n",
    "    print(f\"33333333{str(item)[:100]}\")\n",
    "    if isinstance( item[0], Callable):\n",
    "        try:\n",
    "            yield (item[0](),f\"{item[1]}()\"), True\n",
    "        except:\n",
    "            print(f\"!!!!!!!!!!!!!!!!!!{str(item[0])[:100]}-{item[1]} TROUBLE!\")\n",
    "            pass\n",
    "    else:\n",
    "        yield item, False\n",
    "\n",
    "def do_stage( nodes, stage_transforms ):\n",
    "    # annotate node, was it changed (and need to recheck)\n",
    "    nodes = ( (n,False) for n in nodes )\n",
    "    # while nodes needed to process\n",
    "    while nodes:\n",
    "        # perform sequence once\n",
    "        for transform in stage_transforms:\n",
    "            new_nodes = ( (new_n, new_changed or old_changed) \n",
    "                     for ( old_n, old_changed) in nodes \n",
    "                     for ( new_n, new_changed) in transform( old_n ) )\n",
    "            nodes = list(new_nodes)\n",
    "        # sort out not changed and repeat\n",
    "        repeat_nodes = []\n",
    "        for node, changed in nodes:\n",
    "            print('#'*300 + node[1] + '#'*300 )\n",
    "            if changed:\n",
    "                repeat_nodes.append( (node,False) )\n",
    "            else:\n",
    "                yield node\n",
    "        nodes = repeat_nodes\n",
    "        print('$-'*300 + str(len(nodes)) + '$-'*300 )\n",
    "        "
   ]
  },
  {
   "cell_type": "code",
   "execution_count": null,
   "id": "a23d8cd4-d904-454c-84c7-02575d2fae90",
   "metadata": {},
   "outputs": [],
   "source": [
    "@decorator\n",
    "def stage_1( wrapped, item, _trav ):\n",
    "    yield from do_stage( wrapped( item, _trav ),\n",
    "                        [filter_boring, expand_iterables, expand_call] )"
   ]
  },
  {
   "cell_type": "code",
   "execution_count": null,
   "id": "dc782b95-9893-42b9-904a-417ac8ba39de",
   "metadata": {},
   "outputs": [],
   "source": [
    "stat = {}\n",
    "\n",
    "@adapter_graphviz\n",
    "@stage_1\n",
    "def all_attr(var, _):\n",
    "    for attr_name, _ in zip(dir(var), inge(200)):\n",
    "        attr = getattr(var, attr_name)\n",
    "        if attr is not None:\n",
    "            # print( f\"0000000, {str(attr)[:100]}  {attr_name=} {type(attr)}\")\n",
    "            stat[ str(attr_name) ] = stat.get( str(attr_name) ,0 ) + 1\n",
    "            yield ( attr, str(attr_name))\n",
    "    print('@'*1000)\n",
    "\n",
    "trav_forward = nog.TraversalBreadthFirst(next_labeled_edges=all_attr)\n",
    "trav_forward.start_from( start_vertices=list(nn_model.children()), build_paths=True )\n",
    "\n",
    "for _, _ in zip(trav_forward, inge(300)):\n",
    "    pass"
   ]
  },
  {
   "cell_type": "code",
   "execution_count": null,
   "id": "aefda7c9-33d1-464d-a35b-fc053ee2de40",
   "metadata": {
    "jupyter": {
     "source_hidden": true
    }
   },
   "outputs": [],
   "source": [
    "print(all_attr.dot.source)              # pylint: disable=pointless-statement\n",
    "all_attr.dot"
   ]
  },
  {
   "cell_type": "code",
   "execution_count": null,
   "id": "070ab008-a8b8-420f-832d-0d556dcbc837",
   "metadata": {},
   "outputs": [],
   "source": [
    "#dir(list(nn_model.children())[0])\n",
    "# type(nn_model)\n",
    "# type(nn_model).__bases__"
   ]
  },
  {
   "cell_type": "code",
   "execution_count": null,
   "id": "37d36ccc-18c0-4e42-b3bd-9710281983e4",
   "metadata": {},
   "outputs": [],
   "source": [
    "list(list(nn_model.children())[0].children())\n",
    "#list(nn_model.children())"
   ]
  },
  {
   "cell_type": "code",
   "execution_count": null,
   "id": "4be799dc-7527-4e1e-97ac-9de3bf4f81ec",
   "metadata": {},
   "outputs": [],
   "source": [
    "issubclass(type(nn_model), torch.nn.modules.module.Module)"
   ]
  },
  {
   "cell_type": "code",
   "execution_count": null,
   "id": "cbbf3ae5-16fa-4e98-95af-c9b20a963eaa",
   "metadata": {},
   "outputs": [],
   "source": [
    "stat"
   ]
  },
  {
   "cell_type": "code",
   "execution_count": null,
   "id": "46fd41cc-4a29-42ff-aedf-ffda02a36c42",
   "metadata": {},
   "outputs": [],
   "source": [
    "isinstance( {1:1}, dict)"
   ]
  },
  {
   "cell_type": "code",
   "execution_count": null,
   "id": "314be9fc-d72d-4c73-add7-8b2e7d82fdf0",
   "metadata": {},
   "outputs": [],
   "source": [
    "for i,j in {1:1}.items():\n",
    "    print(i,j)"
   ]
  },
  {
   "cell_type": "code",
   "execution_count": null,
   "id": "62fb1cf9-71cb-493a-8a04-39bb8ea38101",
   "metadata": {},
   "outputs": [],
   "source": [
    "set(dir( object() ))"
   ]
  },
  {
   "cell_type": "code",
   "execution_count": null,
   "id": "9fee51d3-44df-46b4-8c1e-b892b9ad5c4f",
   "metadata": {},
   "outputs": [],
   "source": [
    "list(range(0,1,-1))[:100]"
   ]
  },
  {
   "cell_type": "code",
   "execution_count": null,
   "id": "3536df19-fe96-4310-bdfb-f8f41c1c63a1",
   "metadata": {},
   "outputs": [],
   "source": []
  }
 ],
 "metadata": {
  "kernelspec": {
   "display_name": "Python 3 (ipykernel)",
   "language": "python",
   "name": "python3"
  },
  "language_info": {
   "codemirror_mode": {
    "name": "ipython",
    "version": 3
   },
   "file_extension": ".py",
   "mimetype": "text/x-python",
   "name": "python",
   "nbconvert_exporter": "python",
   "pygments_lexer": "ipython3",
   "version": "3.9.6"
  }
 },
 "nbformat": 4,
 "nbformat_minor": 5
}
