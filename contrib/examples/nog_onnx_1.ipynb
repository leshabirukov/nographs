{
 "cells": [
  {
   "cell_type": "code",
   "execution_count": null,
   "id": "b1609a41-4a36-47af-9a4a-7d0050e32beb",
   "metadata": {},
   "outputs": [],
   "source": [
    "\"\"\"traverse onnx model graph for visualization, requires `onnx` package, simplest version\"\"\""
   ]
  },
  {
   "cell_type": "code",
   "execution_count": null,
   "id": "6763ae05",
   "metadata": {},
   "outputs": [],
   "source": [
    "from functools import wraps\n",
    "from decorator import decorator\n",
    "import onnx\n",
    "import nographs as nog\n",
    "from graphviz import Digraph"
   ]
  },
  {
   "cell_type": "code",
   "execution_count": null,
   "id": "ac59e9bc",
   "metadata": {},
   "outputs": [],
   "source": [
    "#onnx_model = onnx.load(\"inception_v4_no_w.onnx\")\n",
    "onnx_model = onnx.load(\"./.scrapy/onnx/resnet18-v2-7.onnx\")"
   ]
  },
  {
   "cell_type": "code",
   "execution_count": null,
   "id": "07827498-eb63-44d7-a926-7fd217504536",
   "metadata": {},
   "outputs": [],
   "source": [
    "node_style ={\"style\": 'filled',            \"shape\": 'box',\n",
    "             \"align\": 'left',              \"fontsize\": '12',\n",
    "             \"ranksep\":'0.01',             \"height\":'0.02',   \"width\":'0.04',}\n",
    "gr_style = {\"linelength\": '16', \"rankdir\": 'TB'}\n",
    "\n",
    "def adapter_graphviz( wrapped_frw ):\n",
    "    \"\"\"translation to GraphViz visitor\"\"\"\n",
    "    graph_dot = Digraph( node_attr = node_style, graph_attr = gr_style, )\n",
    "    @wraps( wrapped_frw )\n",
    "    def wrapper_bg_frw( vert, _traversal_context ):\n",
    "        \"\"\"visitor wrapper for folloing edge\"\"\"\n",
    "        graph_dot.node( vert, vert )\n",
    "        for result in wrapped_frw( vert, _traversal_context ):\n",
    "            graph_dot.edge( vert, result[0], result[1], )\n",
    "            yield result\n",
    "    return wrapper_bg_frw, graph_dot"
   ]
  },
  {
   "cell_type": "code",
   "execution_count": null,
   "id": "49b33172-d5e2-4bd3-987e-ffa2db8a5da8",
   "metadata": {},
   "outputs": [],
   "source": [
    "def locate_children( incoming_name ):\n",
    "    \"find target in onnx grapn by edge name \"\n",
    "    for child in onnx_model.graph.node:          # pylint: disable=no-member\n",
    "        if incoming_name in set(child.input):\n",
    "            yield (child.name, incoming_name)\n",
    "\n",
    "init_names = set(map(lambda o: o.name, (onnx_model.graph.initializer)))\n",
    "\n",
    "def onnx_walk( nname, _ ):\n",
    "    \"returns successors of given vertex\"\n",
    "    if nname == '_GRAPH_INPUTS':\n",
    "        for graph_in in (set(map(lambda o: o.name, (onnx_model.graph.input))) -\n",
    "                         init_names):\n",
    "            yield from locate_children( graph_in )\n",
    "    else:\n",
    "        for isnt_it_me in onnx_model.graph.node: # pylint: disable=no-member\n",
    "            if nname == isnt_it_me.name:\n",
    "                for node_output in isnt_it_me.output:\n",
    "                    yield from locate_children( node_output )\n",
    "                break"
   ]
  },
  {
   "cell_type": "code",
   "execution_count": null,
   "id": "d04226cf-d607-4e05-9813-eee32eb6ab85",
   "metadata": {},
   "outputs": [],
   "source": [
    "(f_1, dot) = adapter_graphviz( onnx_walk )\n",
    "\n",
    "trav_b = nog.TraversalBreadthFirst( next_labeled_edges= f_1 )\n",
    "trav_b.start_from( '_GRAPH_INPUTS' )\n",
    "for _, _ in zip(trav_b, range(10)):\n",
    "    pass"
   ]
  },
  {
   "cell_type": "code",
   "execution_count": null,
   "id": "1784d1be-3dbe-4c04-8a50-807e692bf1db",
   "metadata": {},
   "outputs": [],
   "source": [
    "dot              # pylint: disable=pointless-statement"
   ]
  },
  {
   "cell_type": "code",
   "execution_count": null,
   "id": "f89c66ad-7ad5-4678-820f-f020597f4eed",
   "metadata": {},
   "outputs": [],
   "source": [
    "onnx_model.graph.node[0]"
   ]
  },
  {
   "cell_type": "code",
   "execution_count": null,
   "id": "5cb8415a-7d3b-45ce-9f1e-a696c1fd8b30",
   "metadata": {},
   "outputs": [],
   "source": [
    "set(map(lambda o: o.name, (onnx_model.graph.node)))"
   ]
  },
  {
   "cell_type": "code",
   "execution_count": null,
   "id": "7d63d1d0-56b7-45e5-94bf-d23e0b3cc19d",
   "metadata": {},
   "outputs": [],
   "source": []
  }
 ],
 "metadata": {
  "kernelspec": {
   "display_name": "Python 3 (ipykernel)",
   "language": "python",
   "name": "python3"
  },
  "language_info": {
   "codemirror_mode": {
    "name": "ipython",
    "version": 3
   },
   "file_extension": ".py",
   "mimetype": "text/x-python",
   "name": "python",
   "nbconvert_exporter": "python",
   "pygments_lexer": "ipython3",
   "version": "3.9.6"
  }
 },
 "nbformat": 4,
 "nbformat_minor": 5
}
