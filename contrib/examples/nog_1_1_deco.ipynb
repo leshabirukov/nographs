{
 "cells": [
  {
   "cell_type": "markdown",
   "id": "3f2c54e2-2a16-43b3-a9de-e31b57333d4c",
   "metadata": {},
   "source": [
    "### Processing as Decorating I"
   ]
  },
  {
   "cell_type": "code",
   "execution_count": null,
   "id": "2d84645b-8234-4105-8c8a-4e5748a59809",
   "metadata": {},
   "outputs": [],
   "source": [
    "\"\"\"This one introduces the technique of implementing graph morfing\n",
    "as decorating `next_***` function\"\"\"\n",
    "from functools import wraps\n",
    "import nographs as nog"
   ]
  },
  {
   "cell_type": "code",
   "execution_count": null,
   "id": "b9de95d1-0e09-43fc-b905-1508de61bdc7",
   "metadata": {},
   "outputs": [],
   "source": [
    "#dict_1= {0:{1,2}, 1:{2,0}, 2:{0,1}, }\n",
    "\n",
    "dict_1= {0:{1,2,4}, 1:{3,5}, 2:{3,6,9}, 3:{37}, 37:{7}, 4:{5,6}, 5:{57}, 57:{7},\n",
    "         6:{67}, 67:{7}, 7:{1}, 9:{1} }\n",
    "\n",
    "def forward(vert, _):\n",
    "    \"\"\"our next vertices\"\"\"\n",
    "    return dict_1[vert]"
   ]
  },
  {
   "cell_type": "code",
   "execution_count": null,
   "id": "e6c85f10-cd7f-49ba-8612-092188ece4e8",
   "metadata": {},
   "outputs": [],
   "source": [
    "def odd_filter( to_deco ):\n",
    "    \"\"\"decorator\"\"\"\n",
    "    @wraps(to_deco)\n",
    "    def wrapper_bg( vert, _ ):\n",
    "        \"\"\"wrapper\"\"\"\n",
    "        for result in (y for y in to_deco(vert) if y%2==1):\n",
    "            yield result\n",
    "    return wrapper_bg\n",
    "\n",
    "@odd_filter\n",
    "def odds(vert ):\n",
    "    \"\"\"decorated next vertices, same body, note: we rid of `_traversal_context`\n",
    "    parameter, as we don't actually need it here\"\"\"\n",
    "    return dict_1[vert]"
   ]
  },
  {
   "cell_type": "code",
   "execution_count": null,
   "id": "7c9af56d-cdef-4fbb-8a86-f86104d5905d",
   "metadata": {},
   "outputs": [],
   "source": [
    "trav_forward = nog.TraversalBreadthFirst( odds )\n",
    "trav_forward.start_from( 0, )\n",
    "str( list(trav_forward) )"
   ]
  },
  {
   "cell_type": "code",
   "execution_count": null,
   "id": "3f0153c6-0b90-4a6f-87c7-2b84c00333d0",
   "metadata": {},
   "outputs": [],
   "source": []
  }
 ],
 "metadata": {
  "kernelspec": {
   "display_name": "Python 3 (ipykernel)",
   "language": "python",
   "name": "python3"
  },
  "language_info": {
   "codemirror_mode": {
    "name": "ipython",
    "version": 3
   },
   "file_extension": ".py",
   "mimetype": "text/x-python",
   "name": "python",
   "nbconvert_exporter": "python",
   "pygments_lexer": "ipython3",
   "version": "3.11.9"
  }
 },
 "nbformat": 4,
 "nbformat_minor": 5
}
