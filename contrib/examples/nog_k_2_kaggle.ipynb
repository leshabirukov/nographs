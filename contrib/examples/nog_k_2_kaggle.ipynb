{
 "cells": [
  {
   "cell_type": "code",
   "execution_count": null,
   "metadata": {},
   "outputs": [],
   "source": [
    "try:\n",
    "    copied\n",
    "except:\n",
    "    !cp -r /kaggle/input/nographs-kaggle/nographs-main/src/* ./"
   ]
  },
  {
   "cell_type": "code",
   "execution_count": null,
   "metadata": {},
   "outputs": [],
   "source": [
    "copied = True"
   ]
  },
  {
   "cell_type": "code",
   "execution_count": null,
   "metadata": {},
   "outputs": [],
   "source": [
    "\"\"\"using nographs + graphviz for program environment inspection\"\"\"\n",
    "from functools import wraps, update_wrapper\n",
    "from ctypes    import cast, py_object\n",
    "from graphviz  import Digraph\n",
    "import nographs as nog\n",
    "# http://magjac.com/graphviz-visual-editor/"
   ]
  },
  {
   "cell_type": "code",
   "execution_count": null,
   "metadata": {},
   "outputs": [],
   "source": [
    "dict_1= {0:{1,2,4}, 1:[3,3,3,5], 2:{3,6}, 3:{37}, 37:{7}, 4:{5,6}, 5:{57}, 57:{7},\n",
    "         6:{67}, 67:{7}, 7:{} }\n",
    "dict_1= {0:{111,2,4}, 111:{3,5}, 2:{3,6}, 3:{37}, 37:{7}, 4:{5,6}, 5:{57}, 57:{7}, \n",
    "         6:{67}, 67:{7}, 7:{77,777}, 77:{}, 777:{}, 1:{777} }"
   ]
  },
  {
   "cell_type": "code",
   "execution_count": null,
   "metadata": {},
   "outputs": [],
   "source": [
    "node_style =dict( style='filled', shape='box', \n",
    "                                align='left',\n",
    "                                fontsize='12',\n",
    "                                ranksep='0.01',\n",
    "                                height='0.02',width='0.04',)\n",
    "gr_style = dict( linelength=\"16\",rankdir='LR',size='32,16',\n",
    "                # concentrate='true'\n",
    "               )#landscape=\"True\",splines='curved' ,layout=\"neato\"\n",
    "\n",
    "def adapter_graphviz( wrapped ):\n",
    "    \"\"\"translation to GraphViz visitor\"\"\"\n",
    "    dot = Digraph( node_attr = node_style, graph_attr = gr_style, )\n",
    "    @wraps( wrapped )\n",
    "    def wrapper_bg( vert, _trav ):\n",
    "        dot.node( str(vert), str(vert) )\n",
    "        for result in wrapped(vert, _trav):\n",
    "            dot.edge( str(vert), str(result), )# label=f\"{str(x)}-{str(result)}\",\n",
    "            yield result\n",
    "    wrapper_bg.dot = dot\n",
    "    return wrapper_bg\n"
   ]
  },
  {
   "cell_type": "code",
   "execution_count": null,
   "metadata": {},
   "outputs": [],
   "source": [
    "class concentrate_edges:\n",
    "    # pylint: disable=no-member   #(__wrapped__)\n",
    "    \"\"\"identity morpher for start\"\"\"\n",
    "    def __init__(self, wrapped):\n",
    "        update_wrapper(self, wrapped )\n",
    "    def __call__(self, vert, _trav):\n",
    "        yield from set(self.__wrapped__( vert, _trav ))"
   ]
  },
  {
   "cell_type": "code",
   "execution_count": null,
   "metadata": {},
   "outputs": [],
   "source": [
    "def graph_inspect( obj, forward ):\n",
    "    trav_forward = nog.TraversalBreadthFirst( forward )\n",
    "    trav_forward.start_from( obj, build_paths=True )\n",
    "    for _, _ in zip(trav_forward, range(50)):\n",
    "        pass\n",
    "        # str( list(trav_forward) )\n",
    "    graph_inspect.trav_forward = trav_forward\n",
    "    return forward\n",
    "\n",
    "@adapter_graphviz\n",
    "@concentrate_edges\n",
    "def pure(vert, _):\n",
    "    \"\"\"basic `next vertices`\"\"\"\n",
    "    yield from dict_1[vert]\n",
    "    \n",
    "graph_inspect( 0, pure ).dot"
   ]
  },
  {
   "cell_type": "code",
   "execution_count": null,
   "metadata": {},
   "outputs": [],
   "source": [
    "class DressCovariant:\n",
    "    # pylint: disable=no-member   #(__wrapped__)\n",
    "    \"\"\"morpher for node names base\"\"\"\n",
    "    def __init__(self, wrapped):\n",
    "        update_wrapper(self, wrapped )\n",
    "    @staticmethod\n",
    "    def dress( vert,):\n",
    "        return vert % 10\n",
    "    def __call__(self, vert, _trav):\n",
    "        # yield from map( self.dress, self.__wrapped__( self.undress(vert), _trav ) )\n",
    "        # yield from                   self.__wrapped__( self.dress(vert), _trav )\n",
    "        yield from map( self.dress, self.__wrapped__(              vert , _trav ) )\n",
    "\n",
    "@DressCovariant\n",
    "@adapter_graphviz\n",
    "def covar_outside(vert, _):\n",
    "    \"\"\"basic `next vertices`\"\"\"\n",
    "    yield from dict_1[vert]\n",
    "\n",
    "graph_inspect( 0, covar_outside ).dot"
   ]
  },
  {
   "cell_type": "code",
   "execution_count": null,
   "metadata": {},
   "outputs": [],
   "source": [
    "class DressContravariant:\n",
    "    # pylint: disable=no-member   #(__wrapped__)\n",
    "    \"\"\"morpher for node names base\"\"\"\n",
    "    def __init__(self, wrapped):\n",
    "        update_wrapper(self, wrapped )\n",
    "    @staticmethod\n",
    "    def dress( vert,):\n",
    "        return vert % 10\n",
    "    def __call__(self, vert, _trav):\n",
    "        yield from                   self.__wrapped__( self.dress(vert), _trav )\n",
    "\n",
    "@DressContravariant\n",
    "@adapter_graphviz\n",
    "def contravar_outside(vert, _):\n",
    "    \"\"\"basic `next vertices`\"\"\"\n",
    "    yield from dict_1[vert]\n",
    "\n",
    "graph_inspect( 0, contravar_outside ).dot"
   ]
  },
  {
   "cell_type": "code",
   "execution_count": null,
   "metadata": {},
   "outputs": [],
   "source": [
    "@adapter_graphviz\n",
    "@concentrate_edges\n",
    "@DressCovariant\n",
    "def covar_inside(vert, _):\n",
    "    \"\"\"basic `next vertices`\"\"\"\n",
    "    yield from dict_1[vert]\n",
    "\n",
    "graph_inspect( 0, covar_inside ).dot"
   ]
  },
  {
   "cell_type": "code",
   "execution_count": null,
   "metadata": {},
   "outputs": [],
   "source": [
    "@adapter_graphviz\n",
    "@DressContravariant\n",
    "def contravar_inside(vert, _):\n",
    "    \"\"\"basic `next vertices`\"\"\"\n",
    "    yield from dict_1[vert]\n",
    "\n",
    "graph_inspect( 0, contravar_inside ).dot"
   ]
  },
  {
   "cell_type": "code",
   "execution_count": null,
   "metadata": {},
   "outputs": [],
   "source": [
    "def ssstr(vert):\n",
    "    if hasattr( vert, \"__call__\"):\n",
    "        vert = (vert).__name__\n",
    "    return str(vert)\n",
    "\n",
    "class translate_nodes:\n",
    "    # pylint: disable=no-member   #(__wrapped__)\n",
    "    \"\"\"morpher for node names base\"\"\"\n",
    "    def __init__(self, wrapped):\n",
    "        update_wrapper(self, wrapped )\n",
    "    @staticmethod\n",
    "    def dress( vert,):\n",
    "        return ( \"\", ssstr(vert), \"vert\")\n",
    "    @staticmethod\n",
    "    def undress( vert,):\n",
    "        return vert[2]\n",
    "    def __call__(self, vert, _trav):\n",
    "        yield from map( self.dress, self.__wrapped__( self.undress(vert), _trav ) )"
   ]
  },
  {
   "cell_type": "code",
   "execution_count": null,
   "metadata": {},
   "outputs": [],
   "source": [
    "@adapter_graphviz\n",
    "@concentrate_edges\n",
    "@translate_nodes\n",
    "def get_all_attr_objs(var, _trav):\n",
    "    # for attr_name in dir(var):\n",
    "    for attr_name, _ in zip(dir(var), range(3)):\n",
    "        try:\n",
    "            attr = getattr(var, attr_name)\n",
    "            #print( f\"{id(attr):x}\"[:6:], end=\"    \" )\n",
    "            #if f\"{id(attr):x}\"[:6:] == f\"{id(10):x}\"[:6:]:\n",
    "                # if var not in _trav.paths.get( attr, () ):\n",
    "            #print(attr)\n",
    "            # if \n",
    "            if attr is not None: #hasattr( attr, \"__hash__\"):\n",
    "                yield attr\n",
    "        except:\n",
    "            #print(f\"!!!{var}-{attr_name}\")\n",
    "            continue"
   ]
  },
  {
   "cell_type": "code",
   "execution_count": null,
   "metadata": {},
   "outputs": [],
   "source": [
    "from decorator import decorator\n",
    "\n",
    "@decorator\n",
    "def filter_boring( wrapped, var, _trav ):\n",
    "    yield from filter( lambda item:item is not None, wrapped( var, _trav ) )"
   ]
  },
  {
   "cell_type": "code",
   "execution_count": null,
   "metadata": {},
   "outputs": [],
   "source": [
    "getattr(10,'__abs__').__name__"
   ]
  },
  {
   "cell_type": "code",
   "execution_count": null,
   "metadata": {},
   "outputs": [],
   "source": [
    "class DressCovariant:\n",
    "    # pylint: disable=no-member   #(__wrapped__)\n",
    "    \"\"\"morpher for node names base\"\"\"\n",
    "    def __init__(self, wrapped):\n",
    "        update_wrapper(self, wrapped )\n",
    "    @staticmethod\n",
    "    def dress( vert,):\n",
    "        if hasattr( vert, \"__call__\"):\n",
    "            try:\n",
    "                vert = vert()\n",
    "            except Exception as ex:\n",
    "                vert = str(ex)[:50]\n",
    "        return str(vert)[:30]\n",
    "    def __call__(self, vert, _trav):\n",
    "        yield from map( self.dress, self.__wrapped__( vert , _trav ) )"
   ]
  },
  {
   "cell_type": "code",
   "execution_count": null,
   "metadata": {},
   "outputs": [],
   "source": [
    "@adapter_graphviz\n",
    "@concentrate_edges\n",
    "@filter_boring\n",
    "@DressCovariant\n",
    "def all_attr_2(var, _trav):\n",
    "    for attr_name, _ in zip(dir(var), range(20)):\n",
    "        try:\n",
    "            attr = getattr(var, attr_name)\n",
    "            if attr is not None: #hasattr( attr, \"__hash__\"):\n",
    "                yield attr\n",
    "        except:\n",
    "            #print(f\"!!!{var}-{attr_name}\")\n",
    "            continue\n",
    "graph_inspect( 10, all_attr_2 ).dot"
   ]
  },
  {
   "cell_type": "code",
   "execution_count": null,
   "metadata": {},
   "outputs": [],
   "source": []
  }
 ],
 "metadata": {
  "kernelspec": {
   "display_name": "Python 3 (ipykernel)",
   "language": "python",
   "name": "python3"
  },
  "language_info": {
   "codemirror_mode": {
    "name": "ipython",
    "version": 3
   },
   "file_extension": ".py",
   "mimetype": "text/x-python",
   "name": "python",
   "nbconvert_exporter": "python",
   "pygments_lexer": "ipython3",
   "version": "3.9.6"
  }
 },
 "nbformat": 4,
 "nbformat_minor": 4
}
