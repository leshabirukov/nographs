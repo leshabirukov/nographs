{
 "cells": [
  {
   "cell_type": "markdown",
   "id": "58c75739-93bf-4b30-b14e-19897653f6e9",
   "metadata": {},
   "source": [
    "### Graph transformation history"
   ]
  },
  {
   "cell_type": "code",
   "execution_count": null,
   "id": "2d84645b-8234-4105-8c8a-4e5748a59809",
   "metadata": {},
   "outputs": [],
   "source": [
    "\"\"\"Experiments with non sequential transformations\"\"\"\n",
    "import functools\n",
    "import ast\n",
    "import nographs as nog\n",
    "from graphviz import Digraph"
   ]
  },
  {
   "cell_type": "code",
   "execution_count": null,
   "id": "b9de95d1-0e09-43fc-b905-1508de61bdc7",
   "metadata": {},
   "outputs": [],
   "source": [
    "dict_2= {0:{1,}, 1:{2,3}, 2:{4,}, 3:{}, 4:{} }"
   ]
  },
  {
   "cell_type": "code",
   "execution_count": null,
   "id": "c2b3bd0d-d1be-4195-a8b1-25479d20bb6f",
   "metadata": {},
   "outputs": [],
   "source": [
    "def to_id(vert):\n",
    "    return f\"{(str( vert ))}\"\n",
    "\n",
    "node_style ={\"style\": 'filled',            \"shape\": 'box',\n",
    "             \"align\": 'left',              \"fontsize\": '12',\n",
    "             \"ranksep\":'0.01',             \"height\":'0.02',   \"width\":'0.04',}\n",
    "gr_style = {\"linelength\": '16', \"rankdir\": 'LR'}#landscape=\"True\",layout=\"neato\"\n",
    "\n",
    "def adapter_graphviz( wrapped ):\n",
    "    \"\"\"translation to GraphViz visitor\"\"\"\n",
    "    dot = Digraph( node_attr = node_style, graph_attr = gr_style, )\n",
    "    @functools.wraps( wrapped )\n",
    "    def wrapper_bg( vert, _trav ):\n",
    "        dot.node( to_id(vert), str(vert) )\n",
    "        for result in wrapped(vert, _trav):\n",
    "            dot.edge( to_id(vert), to_id( result ), )\n",
    "            yield result\n",
    "    wrapper_bg.dot = dot\n",
    "    return wrapper_bg"
   ]
  },
  {
   "cell_type": "code",
   "execution_count": null,
   "id": "8b8ccc6c-f03e-4cf2-b8c9-a1b2ae0a7a69",
   "metadata": {},
   "outputs": [],
   "source": [
    "class GraphMorph:\n",
    "    # pylint: disable=no-member   #(__wrapped__)\n",
    "    \"\"\"identity morpher for start\"\"\"\n",
    "    def __init__(self, wrapped):\n",
    "        functools.update_wrapper(self, wrapped )\n",
    "    def __call__(self, vert, _trav):\n",
    "        yield from self.__wrapped__( vert, _trav )\n",
    "\n",
    "class GraphMorphDecorateNodes(GraphMorph):\n",
    "    # pylint: disable=no-member   #(__wrapped__)\n",
    "    \"\"\"morpher for node names base\"\"\"\n",
    "    def __init__(self,*argc,**argv):\n",
    "        super().__init__(*argc,**argv)\n",
    "    @staticmethod\n",
    "    def dress( vert,):\n",
    "        return vert\n",
    "    @staticmethod\n",
    "    def undress( vert,):\n",
    "        return vert\n",
    "    def __call__(self, vert, _trav):\n",
    "        yield from map( self.dress, self.__wrapped__( self.undress(vert), _trav ) )\n",
    "\n",
    "class DecoName(GraphMorphDecorateNodes):\n",
    "    \"\"\"morpher for node names example\"\"\"\n",
    "    def __init__(self,*argc,**argv):\n",
    "        super().__init__(*argc,**argv)\n",
    "    @staticmethod\n",
    "    def dress( vert,):\n",
    "        return f\"-{vert}-\"\n",
    "    @staticmethod\n",
    "    def undress( vert,):\n",
    "        return ast.literal_eval(vert[1:-1])"
   ]
  },
  {
   "cell_type": "code",
   "execution_count": null,
   "id": "dddc6115-b580-431f-985d-be20a639f517",
   "metadata": {},
   "outputs": [],
   "source": [
    "class FreeForget(GraphMorph):  # All possible paths\n",
    "    # pylint: disable=no-member   #(__wrapped__)\n",
    "    \"\"\"new graph - all paths of old one\"\"\"\n",
    "    def __init__(self,*argc,**argv):\n",
    "        super().__init__(*argc,**argv)\n",
    "    def __call__(self, vert, _trav):\n",
    "        yield vert # identity morphism\n",
    "        for ch1 in self.__wrapped__( vert, _trav ):\n",
    "            yield from self.__call__(ch1, _trav) # recursion"
   ]
  },
  {
   "cell_type": "code",
   "execution_count": null,
   "id": "15772a40-986a-4750-873c-c3c5f985fce7",
   "metadata": {},
   "outputs": [],
   "source": [
    "class IDFunctor(GraphMorphDecorateNodes):\n",
    "    # pylint: disable=no-member   #(__wrapped__)\n",
    "    \"\"\"new graph - two copies of old one with arrows from one to another\"\"\"\n",
    "    def __init__(self,*argc,**argv):\n",
    "        super().__init__(*argc,**argv)\n",
    "    @staticmethod\n",
    "    def dress( vert,):\n",
    "        return f\"-{vert}-\"\n",
    "    @staticmethod\n",
    "    def undress( vert,):\n",
    "        return ast.literal_eval(vert[1:-1])\n",
    "    def __call__(self, vert, _trav):\n",
    "        if type(vert) is int:\n",
    "            yield from                  self.__wrapped__(              vert,  _trav )\n",
    "            yield self.dress(vert)\n",
    "        else:\n",
    "            yield from map( self.dress, self.__wrapped__( self.undress(vert), _trav ) )\n",
    "            #yield from                  self.__wrapped__( self.undress(vert), _trav )"
   ]
  },
  {
   "cell_type": "code",
   "execution_count": null,
   "id": "7319e56b-da9b-4c3a-b396-2cd2268fa652",
   "metadata": {},
   "outputs": [],
   "source": [
    "class FreeForgetFunctor(GraphMorphDecorateNodes):\n",
    "    # pylint: disable=no-member   #(__wrapped__)\n",
    "    \"\"\"new graph - old one projected to `FreeForget`\"\"\"\n",
    "    def __init__(self, wrapped ):\n",
    "        super().__init__(wrapped)\n",
    "    @staticmethod\n",
    "    def dress( vert,):\n",
    "        return f\"-{vert}-\"\n",
    "    @staticmethod\n",
    "    def undress( vert,):\n",
    "        return ast.literal_eval(vert[1:-1])\n",
    "    def ff(self, vert, _trav):\n",
    "        yield vert # identity morphism\n",
    "        for ch1 in self.__wrapped__( vert, _trav ):\n",
    "            yield from self.ff(ch1, _trav) # recursion\n",
    "    def __call__(self, vert, _trav):\n",
    "        if type(vert) is int:\n",
    "            yield from                  self.__wrapped__(              vert,  _trav )\n",
    "            yield self.dress(vert)\n",
    "        else:\n",
    "            yield from map( self.dress, self.ff( self.undress(vert), _trav ) )"
   ]
  },
  {
   "cell_type": "code",
   "execution_count": null,
   "id": "0f7b0355-dbaf-4dc8-949f-f0a88c49ad2a",
   "metadata": {},
   "outputs": [],
   "source": [
    "class graphviz_bipart(  ):\n",
    "    def __init__(self, predicate ):\n",
    "        self.dot = {}\n",
    "        self.dot[(False,False)] = Digraph( name=\"cluster_0\" )\n",
    "        self.dot[(True, True) ] = Digraph( name=\"cluster_1\" )\n",
    "        self.dot[(False,True) ] = Digraph( name='master')\n",
    "        self.p = predicate\n",
    "    def finalize(self):\n",
    "        self.dot[(False,True) ].subgraph(self.dot[(False,False)])\n",
    "        self.dot[(False,True) ].subgraph(self.dot[(True, True) ])\n",
    "        return  self\n",
    "    def get_dot(self):\n",
    "        return  self.finalize().dot[(False,True) ]\n",
    "    def __call__( self, to_wrap ):\n",
    "        @functools.wraps(to_wrap)\n",
    "        def wrapper( vert,_trav ):\n",
    "            self.dot[self.p(vert),self.p(vert)].node( to_id(vert), str(vert) )\n",
    "            for result in to_wrap(vert, _trav):\n",
    "                colour = 'black' if self.p(vert) == self.p(result) else 'red'\n",
    "                self.dot[(self.p(result),self.p(vert))\n",
    "                            ].edge( to_id(vert), to_id(result), color=colour)\n",
    "                yield result\n",
    "        wrapper.get_dot = self.get_dot\n",
    "        return wrapper"
   ]
  },
  {
   "cell_type": "code",
   "execution_count": null,
   "id": "dcc75d76-57c5-462c-bb22-40ffc81624d7",
   "metadata": {},
   "outputs": [],
   "source": [
    "def cat_dog():\n",
    "    @graphviz_bipart( lambda vert: type(vert) is int )\n",
    "    @FreeForgetFunctor\n",
    "    def cat(vert, _):\n",
    "        return dict_2[vert]\n",
    "    return cat\n",
    "\n",
    "cat_3 = cat_dog()\n",
    "trav_forward = nog.TraversalBreadthFirst( cat_3 )\n",
    "trav_forward.start_from( 0, )\n",
    "print(str( list(trav_forward) ))\n",
    "the_dot = cat_3.get_dot()\n",
    "the_dot              # pylint: disable=pointless-statement"
   ]
  },
  {
   "cell_type": "code",
   "execution_count": null,
   "id": "82585afe-e344-4529-bd94-d076ee707be9",
   "metadata": {},
   "outputs": [],
   "source": [
    "class DecoNamePlus(DecoName):\n",
    "    def __init__(self,*argc,**argv):\n",
    "        super().__init__(*argc,**argv)\n",
    "    @staticmethod\n",
    "    def dress( vert,):\n",
    "        return f\"+{vert}+\""
   ]
  },
  {
   "cell_type": "code",
   "execution_count": null,
   "id": "212cb4e4-f890-4888-aba9-016481d3eb92",
   "metadata": {},
   "outputs": [],
   "source": [
    "def cat_dog_cat():\n",
    "    @graphviz_bipart( lambda v: type(v) is int )\n",
    "    # @DecoNamePlus\n",
    "    @FreeForgetFunctor\n",
    "    def cat(vert, _):\n",
    "        return dict_2[vert]\n",
    "    return cat\n",
    "\n",
    "cat_4 = cat_dog_cat()\n",
    "trav_forward = nog.TraversalBreadthFirst( cat_4 )\n",
    "trav_forward.start_from( '.0.', )\n",
    "print(str( list(trav_forward) ))\n",
    "the_dot = cat_4.get_dot()\n",
    "the_dot              # pylint: disable=pointless-statement"
   ]
  },
  {
   "cell_type": "code",
   "execution_count": null,
   "id": "f10ae4a9-3960-4814-ab76-c33a69bc8162",
   "metadata": {},
   "outputs": [],
   "source": []
  }
 ],
 "metadata": {
  "kernelspec": {
   "display_name": "Python 3 (ipykernel)",
   "language": "python",
   "name": "python3"
  },
  "language_info": {
   "codemirror_mode": {
    "name": "ipython",
    "version": 3
   },
   "file_extension": ".py",
   "mimetype": "text/x-python",
   "name": "python",
   "nbconvert_exporter": "python",
   "pygments_lexer": "ipython3",
   "version": "3.9.6"
  }
 },
 "nbformat": 4,
 "nbformat_minor": 5
}
