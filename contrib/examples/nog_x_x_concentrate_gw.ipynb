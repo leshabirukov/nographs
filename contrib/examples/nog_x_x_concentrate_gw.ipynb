{
 "cells": [
  {
   "cell_type": "code",
   "execution_count": null,
   "id": "13e04928-dd9e-4c2b-9ab0-d740ce6d2ee1",
   "metadata": {},
   "outputs": [],
   "source": [
    "\"\"\"using nographs + graphviz for program environment inspection\"\"\"\n",
    "from functools import wraps, update_wrapper\n",
    "from ctypes    import cast, py_object\n",
    "from graphviz  import Digraph\n",
    "import nographs as nog\n",
    "# http://magjac.com/graphviz-visual-editor/"
   ]
  },
  {
   "cell_type": "code",
   "execution_count": null,
   "id": "913db08b-ed10-4b85-8db1-13ff0bdc9a02",
   "metadata": {},
   "outputs": [],
   "source": [
    "dict_1= {0:{1,2,4}, 1:[3,3,3,5], 2:{3,6}, 3:{37}, 37:{7}, 4:{5,6}, 5:{57}, 57:{7},\n",
    "         6:{67}, 67:{7}, 7:{} }\n",
    "dict_1= {0:{111,2,4}, 111:{3,5}, 2:{3,6}, 3:{37}, 37:{7}, 4:{5,6}, 5:{57}, 57:{7}, \n",
    "         6:{67}, 67:{7}, 7:{77,777}, 77:{}, 777:{}, 1:{777} }"
   ]
  },
  {
   "cell_type": "code",
   "execution_count": null,
   "id": "3acbbbff-db20-4c0d-9a60-a0fd84958c78",
   "metadata": {},
   "outputs": [],
   "source": [
    "node_style =dict( style='filled', shape='box', \n",
    "                                align='left',\n",
    "                                fontsize='12',\n",
    "                                ranksep='0.01',\n",
    "                                height='0.02',width='0.04',)\n",
    "gr_style = dict( linelength=\"16\",rankdir='LR',size='16,8',\n",
    "                # concentrate='true'\n",
    "               )#landscape=\"True\",splines='curved' ,layout=\"neato\"\n",
    "\n",
    "def adapter_graphviz( wrapped ):\n",
    "    \"\"\"translation to GraphViz visitor\"\"\"\n",
    "    dot = Digraph( node_attr = node_style, graph_attr = gr_style, )\n",
    "    @wraps( wrapped )\n",
    "    def wrapper_bg( vert, _trav ):\n",
    "        dot.node( str(vert), str(vert) )\n",
    "        for result in wrapped(vert, _trav):\n",
    "            dot.edge( str(vert), str(result), )# label=f\"{str(x)}-{str(result)}\",\n",
    "            yield result\n",
    "    wrapper_bg.dot = dot\n",
    "    return wrapper_bg\n"
   ]
  },
  {
   "cell_type": "code",
   "execution_count": null,
   "id": "ea6bfd88-d5f0-4236-8ef3-78f98d7b14ea",
   "metadata": {},
   "outputs": [],
   "source": [
    "class concentrate_edges:\n",
    "    # pylint: disable=no-member   #(__wrapped__)\n",
    "    \"\"\"identity morpher for start\"\"\"\n",
    "    def __init__(self, wrapped):\n",
    "        update_wrapper(self, wrapped )\n",
    "    def __call__(self, vert, _trav):\n",
    "        yield from set(self.__wrapped__( vert, _trav ))"
   ]
  },
  {
   "cell_type": "code",
   "execution_count": null,
   "id": "4e0e4836-a536-4828-8217-406395374be3",
   "metadata": {},
   "outputs": [],
   "source": [
    "class concentrate_edges:\n",
    "    # pylint: disable=no-member   #(__wrapped__)\n",
    "    \"\"\"identity morpher for start\"\"\"\n",
    "    def __init__(self, wrapped):\n",
    "        update_wrapper(self, wrapped )\n",
    "    def __call__(self, vert, _trav):\n",
    "        yield from set(self.__wrapped__( vert, _trav ))"
   ]
  },
  {
   "cell_type": "code",
   "execution_count": null,
   "id": "e81f2cea-8dd7-40de-9c54-29e3fa945850",
   "metadata": {},
   "outputs": [],
   "source": [
    "def graph_inspect( obj, forward ):\n",
    "    trav_forward = nog.TraversalBreadthFirst( forward )\n",
    "    trav_forward.start_from( obj, build_paths=True )\n",
    "    for _, _ in zip(trav_forward, range(300)):\n",
    "        pass\n",
    "        # str( list(trav_forward) )\n",
    "    graph_inspect.trav_forward = trav_forward\n",
    "    return forward\n",
    "\n",
    "@adapter_graphviz\n",
    "@concentrate_edges\n",
    "def pure(vert, _):\n",
    "    \"\"\"basic `next vertices`\"\"\"\n",
    "    yield from dict_1[vert]\n",
    "    \n",
    "graph_inspect( 0, pure ).dot"
   ]
  },
  {
   "cell_type": "code",
   "execution_count": null,
   "id": "5ffab240-07c8-4cca-af8f-26de0837af26",
   "metadata": {},
   "outputs": [],
   "source": [
    "class DressCovariant:\n",
    "    # pylint: disable=no-member   #(__wrapped__)\n",
    "    \"\"\"morpher for node names base\"\"\"\n",
    "    def __init__(self, wrapped):\n",
    "        update_wrapper(self, wrapped )\n",
    "    @staticmethod\n",
    "    def dress( vert,):\n",
    "        return vert % 10\n",
    "    def __call__(self, vert, _trav):\n",
    "        # yield from map( self.dress, self.__wrapped__( self.undress(vert), _trav ) )\n",
    "        # yield from                   self.__wrapped__( self.dress(vert), _trav )\n",
    "        yield from map( self.dress, self.__wrapped__(              vert , _trav ) )\n",
    "\n",
    "@DressCovariant\n",
    "@adapter_graphviz\n",
    "def covar_outside(vert, _):\n",
    "    \"\"\"basic `next vertices`\"\"\"\n",
    "    yield from dict_1[vert]\n",
    "\n",
    "graph_inspect( 0, covar_outside ).dot"
   ]
  },
  {
   "cell_type": "code",
   "execution_count": null,
   "id": "069879a9-62a3-4731-bfdd-02d21300c9b1",
   "metadata": {},
   "outputs": [],
   "source": [
    "class DressContravariant:\n",
    "    # pylint: disable=no-member   #(__wrapped__)\n",
    "    \"\"\"morpher for node names base\"\"\"\n",
    "    def __init__(self, wrapped):\n",
    "        update_wrapper(self, wrapped )\n",
    "    @staticmethod\n",
    "    def dress( vert,):\n",
    "        return vert % 10\n",
    "    def __call__(self, vert, _trav):\n",
    "        yield from                   self.__wrapped__( self.dress(vert), _trav )\n",
    "\n",
    "@DressContravariant\n",
    "@adapter_graphviz\n",
    "def contravar_outside(vert, _):\n",
    "    \"\"\"basic `next vertices`\"\"\"\n",
    "    yield from dict_1[vert]\n",
    "\n",
    "graph_inspect( 0, contravar_outside ).dot"
   ]
  },
  {
   "cell_type": "code",
   "execution_count": null,
   "id": "710b8d6e-3107-4a88-9a08-80efdcf1a865",
   "metadata": {},
   "outputs": [],
   "source": [
    "@adapter_graphviz\n",
    "@concentrate_edges\n",
    "@DressCovariant\n",
    "def covar_inside(vert, _):\n",
    "    \"\"\"basic `next vertices`\"\"\"\n",
    "    yield from dict_1[vert]\n",
    "\n",
    "graph_inspect( 0, covar_inside ).dot"
   ]
  },
  {
   "cell_type": "code",
   "execution_count": null,
   "id": "ef5f19d5-f53a-4585-be67-d9b869bce60b",
   "metadata": {},
   "outputs": [],
   "source": [
    "@adapter_graphviz\n",
    "@DressContravariant\n",
    "def contravar_inside(vert, _):\n",
    "    \"\"\"basic `next vertices`\"\"\"\n",
    "    yield from dict_1[vert]\n",
    "\n",
    "graph_inspect( 0, contravar_inside ).dot"
   ]
  },
  {
   "cell_type": "code",
   "execution_count": null,
   "id": "6900b32a-0e96-4733-9642-9f707f2df406",
   "metadata": {},
   "outputs": [],
   "source": []
  },
  {
   "cell_type": "code",
   "execution_count": null,
   "id": "e4bc90d4-9d87-40e6-aca9-6e39416d27a6",
   "metadata": {},
   "outputs": [],
   "source": []
  }
 ],
 "metadata": {
  "kernelspec": {
   "display_name": "Python 3 (ipykernel)",
   "language": "python",
   "name": "python3"
  },
  "language_info": {
   "codemirror_mode": {
    "name": "ipython",
    "version": 3
   },
   "file_extension": ".py",
   "mimetype": "text/x-python",
   "name": "python",
   "nbconvert_exporter": "python",
   "pygments_lexer": "ipython3",
   "version": "3.9.6"
  }
 },
 "nbformat": 4,
 "nbformat_minor": 5
}
