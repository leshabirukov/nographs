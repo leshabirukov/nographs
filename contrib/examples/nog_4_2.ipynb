{
 "cells": [
  {
   "cell_type": "code",
   "execution_count": null,
   "id": "0c53c30d-fd6d-4ab8-ad23-86c8f29f25b0",
   "metadata": {},
   "outputs": [],
   "source": [
    "\"\"\"Sofisticated composition of decorators\"\"\"\n",
    "from functools import wraps, reduce\n",
    "from decorator import decorator\n",
    "\n",
    "import nographs as nog\n",
    "from graphviz import Digraph\n",
    "\n",
    "import torch\n",
    "# import torch.nn as nn\n",
    "# import torch.nn.functional as F\n",
    "from torchvision import models"
   ]
  },
  {
   "cell_type": "code",
   "execution_count": null,
   "id": "7fc230f3-2465-4bf6-8288-aef8631ffcce",
   "metadata": {},
   "outputs": [],
   "source": [
    "nn_model = models.convnext_tiny()\n",
    "#nn_model"
   ]
  },
  {
   "cell_type": "code",
   "execution_count": null,
   "id": "08dda6db-80d7-46f8-b792-de503bb84fed",
   "metadata": {},
   "outputs": [],
   "source": [
    "node_style ={\"style\": 'filled',            \"shape\": 'box',\n",
    "             \"align\": 'left',              \"fontsize\": '12',\n",
    "             \"ranksep\":'0.01',             \"height\":'0.02',   \"width\":'0.04',}\n",
    "gr_style = {\"linelength\": '16', \"rankdir\": 'LR'}#\"landscape\":'True',\n",
    "\n",
    "def adapter_graphviz( wrapped ):\n",
    "    \"\"\"translation to GraphViz visitor\"\"\"\n",
    "    dot = Digraph( node_attr = node_style, graph_attr = gr_style, )\n",
    "    @wraps( wrapped )\n",
    "    def wrapper_bg( _edge, _trav ):\n",
    "        dot.node( str(_edge), str(_edge) )\n",
    "        for result in wrapped(_edge, _trav):\n",
    "            edge = dot.edge( str(_edge), str(result[0]), str(result[1]), )\n",
    "            yield result\n",
    "    wrapper_bg.dot = dot\n",
    "    return wrapper_bg"
   ]
  },
  {
   "cell_type": "code",
   "execution_count": null,
   "id": "b20d54de-79d5-4af1-a3f3-0cb9f51c77e6",
   "metadata": {},
   "outputs": [],
   "source": [
    "def chain_two( f, g ):\n",
    "    \"\"\"chain two functions\"\"\"\n",
    "    def lll(x):\n",
    "        res = f(g(x))\n",
    "        print( f\"*{x}*\\n*{f}*\\n*{g}*\\n*{res}*\" )\n",
    "        return res\n",
    "    return lll#lambda x:f(g(x))"
   ]
  },
  {
   "cell_type": "code",
   "execution_count": null,
   "id": "759e3685-b80a-4cdd-a0fa-114a8df9b200",
   "metadata": {},
   "outputs": [],
   "source": [
    "def chain_functions( *funcs ):\n",
    "    \"\"\"chain function calling\"\"\"\n",
    "    return reduce( chain_two, funcs)"
   ]
  },
  {
   "cell_type": "code",
   "execution_count": null,
   "id": "85835ee0-b13a-4541-82cb-e292ffbc5d0a",
   "metadata": {},
   "outputs": [],
   "source": [
    "def while_changed( *wrappers ):\n",
    "    \"\"\"repeat transformations, until no opportunities\"\"\"\n",
    "    cycle = chain_functions( *wrappers )\n",
    "    def _loop_static_flow( body ):\n",
    "        def _runtime_flow( _item, _trav ):\n",
    "            changed = True\n",
    "            while changed:\n",
    "                changed = False\n",
    "                ( _item, _trav ) = cycle( body )( _item, _trav )\n",
    "    return _loop_static_flow"
   ]
  },
  {
   "cell_type": "code",
   "execution_count": null,
   "id": "96537fc3-ddb8-4762-a648-79a955a60536",
   "metadata": {},
   "outputs": [],
   "source": [
    "@decorator\n",
    "def filter_boring( wrapped, _edge, _trav ):\n",
    "    \"\"\"Decorator for filtering, lets shrink graph a bit\"\"\"\n",
    "    stop_words = {'__dir__', '__str__','__repr__','__doc__','__hash__'}\n",
    "    yield from filter( lambda e:e[1] not in stop_words, wrapped( _edge, _trav ) )"
   ]
  },
  {
   "cell_type": "code",
   "execution_count": null,
   "id": "a23d8cd4-d904-454c-84c7-02575d2fae90",
   "metadata": {},
   "outputs": [],
   "source": [
    "@decorator\n",
    "def expand_iterables( wrapped, item, _trav ):\n",
    "    \"\"\"Decorator for sequenses substitution\"\"\"\n",
    "    # print(f\"{hasattr( item, '__iter__' )} {item=}\")\n",
    "    if hasattr( item, '__iter__' ):\n",
    "        for sub in item:\n",
    "            yield from expand_iterables( wrapped, sub, _trav )\n",
    "    else:\n",
    "        yield from wrapped( item, _trav )"
   ]
  },
  {
   "cell_type": "code",
   "execution_count": null,
   "id": "dc782b95-9893-42b9-904a-417ac8ba39de",
   "metadata": {},
   "outputs": [],
   "source": [
    "@adapter_graphviz\n",
    "#@expand_iterables\n",
    "@while_changed(filter_boring,expand_iterables,)\n",
    "#@filter_boring\n",
    "def all_attr(var, _):\n",
    "    for attr_name, _ in zip(dir(var), range(3)):\n",
    "        print(attr_name)\n",
    "        try:\n",
    "            attr = getattr(var, attr_name)\n",
    "            if hasattr( attr, \"__call__\"):\n",
    "                # try:\n",
    "                    attr = attr()\n",
    "                # except Exception as ex:\n",
    "                #     attr = str(ex)[:50]\n",
    "            if attr is not None: #hasattr( attr, \"__hash__\"):\n",
    "                print((str(attr), str(attr_name)), type(attr))\n",
    "                yield (str(attr), str(attr_name))\n",
    "        except:\n",
    "            print(\"$$$trouble\")\n",
    "            continue\n",
    "\n",
    "trav_forward = nog.TraversalBreadthFirst(next_labeled_edges=all_attr)\n",
    "trav_forward.start_from( start_vertices=list(nn_model.children()), build_paths=True )\n",
    "#trav_forward.start_from( nn_model.children(), build_paths=True )\n",
    "for _, _ in zip(trav_forward, range(3)):\n",
    "    pass"
   ]
  },
  {
   "cell_type": "code",
   "execution_count": null,
   "id": "aefda7c9-33d1-464d-a35b-fc053ee2de40",
   "metadata": {},
   "outputs": [],
   "source": [
    "#print(all_attr.dot.source)              # pylint: disable=pointless-statement\n",
    "#all_attr.dot"
   ]
  },
  {
   "cell_type": "code",
   "execution_count": null,
   "id": "070ab008-a8b8-420f-832d-0d556dcbc837",
   "metadata": {},
   "outputs": [],
   "source": [
    "dir(nn_model)\n",
    "type(nn_model)\n",
    "type(nn_model).__bases__"
   ]
  },
  {
   "cell_type": "code",
   "execution_count": null,
   "id": "37d36ccc-18c0-4e42-b3bd-9710281983e4",
   "metadata": {},
   "outputs": [],
   "source": [
    "#list(nn_model.children())"
   ]
  },
  {
   "cell_type": "code",
   "execution_count": null,
   "id": "4be799dc-7527-4e1e-97ac-9de3bf4f81ec",
   "metadata": {},
   "outputs": [],
   "source": [
    "issubclass(type(nn_model), torch.nn.modules.module.Module)"
   ]
  },
  {
   "cell_type": "code",
   "execution_count": null,
   "id": "cbbf3ae5-16fa-4e98-95af-c9b20a963eaa",
   "metadata": {},
   "outputs": [],
   "source": [
    "#dir(nn_model)"
   ]
  },
  {
   "cell_type": "code",
   "execution_count": null,
   "id": "72f967c3-9619-4bcd-a394-7d8f342ff109",
   "metadata": {},
   "outputs": [],
   "source": [
    "def plusone(x):\n",
    "    return x+1"
   ]
  },
  {
   "cell_type": "code",
   "execution_count": null,
   "id": "904c367e-6976-416b-8f69-0675da0a8ea7",
   "metadata": {},
   "outputs": [],
   "source": [
    "chain_functions(plusone,plusone,plusone,)(10)"
   ]
  },
  {
   "cell_type": "code",
   "execution_count": null,
   "id": "d1726e8b-1a0a-4c77-8ef6-f7e5d58d406c",
   "metadata": {},
   "outputs": [],
   "source": []
  }
 ],
 "metadata": {
  "kernelspec": {
   "display_name": "Python 3 (ipykernel)",
   "language": "python",
   "name": "python3"
  },
  "language_info": {
   "codemirror_mode": {
    "name": "ipython",
    "version": 3
   },
   "file_extension": ".py",
   "mimetype": "text/x-python",
   "name": "python",
   "nbconvert_exporter": "python",
   "pygments_lexer": "ipython3",
   "version": "3.11.9"
  }
 },
 "nbformat": 4,
 "nbformat_minor": 5
}
