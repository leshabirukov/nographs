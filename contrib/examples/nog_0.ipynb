{
 "cells": [
  {
   "cell_type": "markdown",
   "id": "77cd2541-f44a-4cbd-962b-164dc0dd86b3",
   "metadata": {},
   "source": [
    "### Hello World"
   ]
  },
  {
   "cell_type": "code",
   "execution_count": null,
   "id": "2d84645b-8234-4105-8c8a-4e5748a59809",
   "metadata": {},
   "outputs": [],
   "source": [
    "\"\"\"This module is just start point for nographs expirements, basic usage.\"\"\"\n",
    "import nographs as nog"
   ]
  },
  {
   "cell_type": "code",
   "execution_count": null,
   "id": "e6c85f10-cd7f-49ba-8612-092188ece4e8",
   "metadata": {},
   "outputs": [],
   "source": [
    "dict_1= {0:{111,2,4}, 111:{3,5}, 2:{3,6}, 3:{37}, 37:{7}, 4:{5,6}, 5:{57}, 57:{7},\n",
    "         6:{67}, 67:{7}, 7:{} }\n",
    "\n",
    "def forward( vert, _):\n",
    "    \"\"\"wrapping the dict as `next_vertices` function\"\"\"\n",
    "    return dict_1[vert]"
   ]
  },
  {
   "cell_type": "code",
   "execution_count": null,
   "id": "eb8df121-8645-4218-ac22-36be5cd7fa9b",
   "metadata": {},
   "outputs": [],
   "source": [
    "trav_forward = nog.TraversalBreadthFirst( forward )\n",
    "trav_forward.start_from( 0, )\n",
    "list(trav_forward)"
   ]
  },
  {
   "cell_type": "code",
   "execution_count": null,
   "id": "71dfe179-b977-4986-88a0-43b29946038d",
   "metadata": {},
   "outputs": [],
   "source": []
  }
 ],
 "metadata": {
  "kernelspec": {
   "display_name": "Python 3 (ipykernel)",
   "language": "python",
   "name": "python3"
  },
  "language_info": {
   "codemirror_mode": {
    "name": "ipython",
    "version": 3
   },
   "file_extension": ".py",
   "mimetype": "text/x-python",
   "name": "python",
   "nbconvert_exporter": "python",
   "pygments_lexer": "ipython3",
   "version": "3.9.6"
  }
 },
 "nbformat": 4,
 "nbformat_minor": 5
}
